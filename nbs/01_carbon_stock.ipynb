{
 "cells": [
  {
   "cell_type": "markdown",
   "metadata": {},
   "source": [
    "# Carbon stock"
   ]
  },
  {
   "cell_type": "code",
   "execution_count": null,
   "metadata": {},
   "outputs": [],
   "source": [
    "import pandas as pd"
   ]
  },
  {
   "cell_type": "code",
   "execution_count": null,
   "metadata": {},
   "outputs": [],
   "source": [
    "path_data = '../data/ISRIC_report_2008_02_csv/'\n",
    "path_horizon = f'{path_data}/WISE3_HORIZON.csv'\n",
    "\n",
    "horizon = pd.read_csv(path_horizon)\n",
    "horizon.columns = [c.lower() for c in horizon.columns]"
   ]
  },
  {
   "cell_type": "code",
   "execution_count": null,
   "metadata": {},
   "outputs": [
    {
     "data": {
      "text/html": [
       "<div>\n",
       "<style scoped>\n",
       "    .dataframe tbody tr th:only-of-type {\n",
       "        vertical-align: middle;\n",
       "    }\n",
       "\n",
       "    .dataframe tbody tr th {\n",
       "        vertical-align: top;\n",
       "    }\n",
       "\n",
       "    .dataframe thead th {\n",
       "        text-align: right;\n",
       "    }\n",
       "</style>\n",
       "<table border=\"1\" class=\"dataframe\">\n",
       "  <thead>\n",
       "    <tr style=\"text-align: right;\">\n",
       "      <th></th>\n",
       "      <th>wise3_id</th>\n",
       "      <th>honu</th>\n",
       "      <th>desig</th>\n",
       "      <th>topdep</th>\n",
       "      <th>botdep</th>\n",
       "      <th>mcolor</th>\n",
       "      <th>dcolor</th>\n",
       "      <th>orgc</th>\n",
       "      <th>totn</th>\n",
       "      <th>caco3</th>\n",
       "      <th>...</th>\n",
       "      <th>cecsoil</th>\n",
       "      <th>bsat</th>\n",
       "      <th>sand</th>\n",
       "      <th>silt</th>\n",
       "      <th>clay</th>\n",
       "      <th>gravel</th>\n",
       "      <th>bulkdens</th>\n",
       "      <th>vmc1</th>\n",
       "      <th>vmc2</th>\n",
       "      <th>vmc3</th>\n",
       "    </tr>\n",
       "  </thead>\n",
       "  <tbody>\n",
       "    <tr>\n",
       "      <th>0</th>\n",
       "      <td>AF0001</td>\n",
       "      <td>1</td>\n",
       "      <td>NaN</td>\n",
       "      <td>0</td>\n",
       "      <td>15</td>\n",
       "      <td>10YR4/3</td>\n",
       "      <td>10YR4/2</td>\n",
       "      <td>7.6</td>\n",
       "      <td>0.6</td>\n",
       "      <td>93.0</td>\n",
       "      <td>...</td>\n",
       "      <td>NaN</td>\n",
       "      <td>NaN</td>\n",
       "      <td>40.0</td>\n",
       "      <td>40.0</td>\n",
       "      <td>20.0</td>\n",
       "      <td>20.0</td>\n",
       "      <td>NaN</td>\n",
       "      <td>NaN</td>\n",
       "      <td>NaN</td>\n",
       "      <td>NaN</td>\n",
       "    </tr>\n",
       "    <tr>\n",
       "      <th>1</th>\n",
       "      <td>AF0001</td>\n",
       "      <td>2</td>\n",
       "      <td>NaN</td>\n",
       "      <td>15</td>\n",
       "      <td>60</td>\n",
       "      <td>10YR5/3</td>\n",
       "      <td>10YR5/2</td>\n",
       "      <td>2.3</td>\n",
       "      <td>0.3</td>\n",
       "      <td>177.0</td>\n",
       "      <td>...</td>\n",
       "      <td>NaN</td>\n",
       "      <td>NaN</td>\n",
       "      <td>10.0</td>\n",
       "      <td>55.0</td>\n",
       "      <td>35.0</td>\n",
       "      <td>NaN</td>\n",
       "      <td>NaN</td>\n",
       "      <td>NaN</td>\n",
       "      <td>NaN</td>\n",
       "      <td>NaN</td>\n",
       "    </tr>\n",
       "    <tr>\n",
       "      <th>2</th>\n",
       "      <td>AF0001</td>\n",
       "      <td>3</td>\n",
       "      <td>NaN</td>\n",
       "      <td>60</td>\n",
       "      <td>150</td>\n",
       "      <td>10YR5/3</td>\n",
       "      <td>NaN</td>\n",
       "      <td>0.9</td>\n",
       "      <td>0.3</td>\n",
       "      <td>182.0</td>\n",
       "      <td>...</td>\n",
       "      <td>NaN</td>\n",
       "      <td>NaN</td>\n",
       "      <td>10.0</td>\n",
       "      <td>55.0</td>\n",
       "      <td>35.0</td>\n",
       "      <td>NaN</td>\n",
       "      <td>NaN</td>\n",
       "      <td>NaN</td>\n",
       "      <td>NaN</td>\n",
       "      <td>NaN</td>\n",
       "    </tr>\n",
       "    <tr>\n",
       "      <th>3</th>\n",
       "      <td>AF0002</td>\n",
       "      <td>1</td>\n",
       "      <td>NaN</td>\n",
       "      <td>0</td>\n",
       "      <td>20</td>\n",
       "      <td>10YR4/2</td>\n",
       "      <td>NaN</td>\n",
       "      <td>12.8</td>\n",
       "      <td>0.9</td>\n",
       "      <td>191.0</td>\n",
       "      <td>...</td>\n",
       "      <td>NaN</td>\n",
       "      <td>NaN</td>\n",
       "      <td>40.0</td>\n",
       "      <td>40.0</td>\n",
       "      <td>20.0</td>\n",
       "      <td>NaN</td>\n",
       "      <td>NaN</td>\n",
       "      <td>NaN</td>\n",
       "      <td>NaN</td>\n",
       "      <td>NaN</td>\n",
       "    </tr>\n",
       "    <tr>\n",
       "      <th>4</th>\n",
       "      <td>AF0002</td>\n",
       "      <td>2</td>\n",
       "      <td>NaN</td>\n",
       "      <td>20</td>\n",
       "      <td>60</td>\n",
       "      <td>10YR4/2</td>\n",
       "      <td>NaN</td>\n",
       "      <td>6.0</td>\n",
       "      <td>0.6</td>\n",
       "      <td>192.0</td>\n",
       "      <td>...</td>\n",
       "      <td>NaN</td>\n",
       "      <td>NaN</td>\n",
       "      <td>15.0</td>\n",
       "      <td>65.0</td>\n",
       "      <td>20.0</td>\n",
       "      <td>NaN</td>\n",
       "      <td>NaN</td>\n",
       "      <td>NaN</td>\n",
       "      <td>NaN</td>\n",
       "      <td>NaN</td>\n",
       "    </tr>\n",
       "  </tbody>\n",
       "</table>\n",
       "<p>5 rows × 31 columns</p>\n",
       "</div>"
      ],
      "text/plain": [
       "  wise3_id  honu desig  topdep  botdep   mcolor   dcolor  orgc  totn  caco3  \\\n",
       "0   AF0001     1   NaN       0      15  10YR4/3  10YR4/2   7.6   0.6   93.0   \n",
       "1   AF0001     2   NaN      15      60  10YR5/3  10YR5/2   2.3   0.3  177.0   \n",
       "2   AF0001     3   NaN      60     150  10YR5/3      NaN   0.9   0.3  182.0   \n",
       "3   AF0002     1   NaN       0      20  10YR4/2      NaN  12.8   0.9  191.0   \n",
       "4   AF0002     2   NaN      20      60  10YR4/2      NaN   6.0   0.6  192.0   \n",
       "\n",
       "   ...  cecsoil  bsat  sand  silt  clay  gravel  bulkdens  vmc1  vmc2  vmc3  \n",
       "0  ...      NaN   NaN  40.0  40.0  20.0    20.0       NaN   NaN   NaN   NaN  \n",
       "1  ...      NaN   NaN  10.0  55.0  35.0     NaN       NaN   NaN   NaN   NaN  \n",
       "2  ...      NaN   NaN  10.0  55.0  35.0     NaN       NaN   NaN   NaN   NaN  \n",
       "3  ...      NaN   NaN  40.0  40.0  20.0     NaN       NaN   NaN   NaN   NaN  \n",
       "4  ...      NaN   NaN  15.0  65.0  20.0     NaN       NaN   NaN   NaN   NaN  \n",
       "\n",
       "[5 rows x 31 columns]"
      ]
     },
     "execution_count": null,
     "metadata": {},
     "output_type": "execute_result"
    }
   ],
   "source": [
    "horizon.head()"
   ]
  },
  {
   "cell_type": "markdown",
   "metadata": {},
   "source": [
    "`orgc` = $c$. $[c] =  \\frac{g}{kg}.$  \n",
    "`bulkdens` = $b$. $[b] = \\frac{g}{cm^3}.$  \n",
    "`botdep - topdep` = $l$. $[l] = cm.$  \n",
    "\n",
    "\n",
    "Depth of interest:\n",
    "$$\n",
    "L = 100 \\: cm\n",
    "$$\n",
    "\n",
    "Method of calculation:\n",
    "1. Clip off all segments below desired depth.\n",
    "2. Calculate the carbon volume density of each segment.\n",
    "3. For each profile, average its segments' carbon volume densities, weighted by segment length.\n",
    "\n",
    "i.e. for a profile with two segments:\n",
    "$$\n",
    "\\frac{l_1}{L} c_1 b_1 + \\frac{l_2}{L} c_2 b_2 \\quad\n",
    "$$\n",
    "with units:\n",
    "$$\n",
    "\\frac{g}{10^{-3} m^{3}} = \\frac{kg}{m^{3}} \\quad.\n",
    "$$"
   ]
  },
  {
   "cell_type": "code",
   "execution_count": null,
   "metadata": {},
   "outputs": [],
   "source": [
    "# Depth of interest.\n",
    "depth = 100 # cm"
   ]
  },
  {
   "cell_type": "code",
   "execution_count": null,
   "metadata": {},
   "outputs": [],
   "source": [
    "# Select organic carbon-related columns.\n",
    "cols = ['wise3_id', 'topdep', 'botdep', 'orgc', 'bulkdens']\n",
    "df = horizon[cols].copy()"
   ]
  },
  {
   "cell_type": "markdown",
   "metadata": {},
   "source": [
    "Get $\\frac{l}{L}$."
   ]
  },
  {
   "cell_type": "code",
   "execution_count": null,
   "metadata": {},
   "outputs": [],
   "source": [
    "# Clip bottoms at desired depth.\n",
    "# Calculate length of each segment.\n",
    "# Normalize by depth of interest.\n",
    "df.loc[:, 'botdep_trunc'] = df['botdep'].clip(upper=depth)\n",
    "df.loc[:, 'segment_length'] = df['botdep_trunc'] - df['topdep']\n",
    "df.loc[:, 'segment_length'] /= depth"
   ]
  },
  {
   "cell_type": "code",
   "execution_count": null,
   "metadata": {},
   "outputs": [],
   "source": [
    "# Select needed columns to continue.\n",
    "df = df[['wise3_id', 'segment_length', 'orgc', 'bulkdens']]"
   ]
  },
  {
   "cell_type": "code",
   "execution_count": null,
   "metadata": {},
   "outputs": [],
   "source": [
    "# Ignore entries with no valid bulkdens, orgc, or segment_length.\n",
    "df = df[\n",
    "    df.bulkdens.notnull() & df.orgc.notnull() & df.segment_length.gt(0)\n",
    "]"
   ]
  },
  {
   "cell_type": "markdown",
   "metadata": {},
   "source": [
    "Get $\\frac{l}{L} c b$."
   ]
  },
  {
   "cell_type": "code",
   "execution_count": null,
   "metadata": {},
   "outputs": [],
   "source": [
    "df.loc[:, 'weighted_orgc_voldens'] = (\n",
    "    df['segment_length'] * df['orgc'] * df['bulkdens']\n",
    ")"
   ]
  },
  {
   "cell_type": "markdown",
   "metadata": {},
   "source": []
  },
  {
   "cell_type": "code",
   "execution_count": null,
   "metadata": {},
   "outputs": [],
   "source": [
    "# Average segments weighted by their length for each profile\n",
    "df = df.groupby('wise3_id').weighted_orgc_voldens.sum()\n",
    "df = pd.DataFrame(df)\n",
    "df.rename({'weighted_orgc_voldens': 'carbon_stock'}, axis=1, inplace=True)"
   ]
  },
  {
   "cell_type": "markdown",
   "metadata": {},
   "source": [
    "Carbon stock.  Units: $\\frac{kg}{m^3}$"
   ]
  },
  {
   "cell_type": "code",
   "execution_count": null,
   "metadata": {},
   "outputs": [
    {
     "data": {
      "text/html": [
       "<div>\n",
       "<style scoped>\n",
       "    .dataframe tbody tr th:only-of-type {\n",
       "        vertical-align: middle;\n",
       "    }\n",
       "\n",
       "    .dataframe tbody tr th {\n",
       "        vertical-align: top;\n",
       "    }\n",
       "\n",
       "    .dataframe thead th {\n",
       "        text-align: right;\n",
       "    }\n",
       "</style>\n",
       "<table border=\"1\" class=\"dataframe\">\n",
       "  <thead>\n",
       "    <tr style=\"text-align: right;\">\n",
       "      <th></th>\n",
       "      <th>carbon_stock</th>\n",
       "    </tr>\n",
       "    <tr>\n",
       "      <th>wise3_id</th>\n",
       "      <th></th>\n",
       "    </tr>\n",
       "  </thead>\n",
       "  <tbody>\n",
       "    <tr>\n",
       "      <th>AL0007</th>\n",
       "      <td>12.11205</td>\n",
       "    </tr>\n",
       "    <tr>\n",
       "      <th>AL0008</th>\n",
       "      <td>6.79968</td>\n",
       "    </tr>\n",
       "    <tr>\n",
       "      <th>AL0009</th>\n",
       "      <td>10.18997</td>\n",
       "    </tr>\n",
       "    <tr>\n",
       "      <th>AL0010</th>\n",
       "      <td>15.78198</td>\n",
       "    </tr>\n",
       "    <tr>\n",
       "      <th>AL0011</th>\n",
       "      <td>17.50674</td>\n",
       "    </tr>\n",
       "    <tr>\n",
       "      <th>...</th>\n",
       "      <td>...</td>\n",
       "    </tr>\n",
       "    <tr>\n",
       "      <th>ZW0060</th>\n",
       "      <td>12.94279</td>\n",
       "    </tr>\n",
       "    <tr>\n",
       "      <th>ZW0062</th>\n",
       "      <td>10.39402</td>\n",
       "    </tr>\n",
       "    <tr>\n",
       "      <th>ZW0063</th>\n",
       "      <td>11.58268</td>\n",
       "    </tr>\n",
       "    <tr>\n",
       "      <th>ZW0065</th>\n",
       "      <td>8.96388</td>\n",
       "    </tr>\n",
       "    <tr>\n",
       "      <th>ZW0066</th>\n",
       "      <td>22.23596</td>\n",
       "    </tr>\n",
       "  </tbody>\n",
       "</table>\n",
       "<p>3645 rows × 1 columns</p>\n",
       "</div>"
      ],
      "text/plain": [
       "          carbon_stock\n",
       "wise3_id              \n",
       "AL0007        12.11205\n",
       "AL0008         6.79968\n",
       "AL0009        10.18997\n",
       "AL0010        15.78198\n",
       "AL0011        17.50674\n",
       "...                ...\n",
       "ZW0060        12.94279\n",
       "ZW0062        10.39402\n",
       "ZW0063        11.58268\n",
       "ZW0065         8.96388\n",
       "ZW0066        22.23596\n",
       "\n",
       "[3645 rows x 1 columns]"
      ]
     },
     "execution_count": null,
     "metadata": {},
     "output_type": "execute_result"
    }
   ],
   "source": [
    "df"
   ]
  },
  {
   "cell_type": "code",
   "execution_count": null,
   "metadata": {},
   "outputs": [
    {
     "data": {
      "text/plain": [
       "carbon_stock    12.78894\n",
       "Name: TH0285, dtype: float64"
      ]
     },
     "execution_count": null,
     "metadata": {},
     "output_type": "execute_result"
    }
   ],
   "source": [
    "df.loc['TH0285']"
   ]
  },
  {
   "cell_type": "code",
   "execution_count": null,
   "metadata": {},
   "outputs": [],
   "source": []
  }
 ],
 "metadata": {
  "kernelspec": {
   "display_name": "Python 3",
   "language": "python",
   "name": "python3"
  }
 },
 "nbformat": 4,
 "nbformat_minor": 4
}

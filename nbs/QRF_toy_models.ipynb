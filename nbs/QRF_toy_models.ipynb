{
 "cells": [
  {
   "cell_type": "markdown",
   "metadata": {},
   "source": [
    "# Quantile Regression Toy Models"
   ]
  },
  {
   "cell_type": "code",
   "execution_count": null,
   "metadata": {},
   "outputs": [],
   "source": [
    "%reload_ext autoreload\n",
    "%autoreload 2"
   ]
  },
  {
   "cell_type": "code",
   "execution_count": null,
   "metadata": {},
   "outputs": [],
   "source": [
    "from pathlib import Path\n",
    "import numpy as np\n",
    "import pandas as pd\n",
    "import sklearn\n",
    "from sklearn import preprocessing\n",
    "from sklearn.model_selection import train_test_split\n",
    "import matplotlib.pyplot as plt"
   ]
  },
  {
   "cell_type": "code",
   "execution_count": null,
   "metadata": {},
   "outputs": [],
   "source": [
    "dir_datasets = Path('../../soil/datasets/')\n",
    "pth_wise3_data = dir_datasets/'ISRIC_WISE/orgc_stock_ISRIC_WISE_clip.csv'"
   ]
  },
  {
   "cell_type": "code",
   "execution_count": null,
   "metadata": {},
   "outputs": [],
   "source": [
    "wise3 = pd.read_csv(pth_wise3_data)\n",
    "wise3.drop('Unnamed: 0', axis=1, inplace=True)"
   ]
  },
  {
   "cell_type": "code",
   "execution_count": null,
   "metadata": {},
   "outputs": [],
   "source": [
    "vars_X = ['LATDD', 'LONDD']\n",
    "var_Y = 'orgc_stock_mineral'"
   ]
  },
  {
   "cell_type": "code",
   "execution_count": null,
   "metadata": {},
   "outputs": [
    {
     "data": {
      "text/html": [
       "<div>\n",
       "<style scoped>\n",
       "    .dataframe tbody tr th:only-of-type {\n",
       "        vertical-align: middle;\n",
       "    }\n",
       "\n",
       "    .dataframe tbody tr th {\n",
       "        vertical-align: top;\n",
       "    }\n",
       "\n",
       "    .dataframe thead th {\n",
       "        text-align: right;\n",
       "    }\n",
       "</style>\n",
       "<table border=\"1\" class=\"dataframe\">\n",
       "  <thead>\n",
       "    <tr style=\"text-align: right;\">\n",
       "      <th></th>\n",
       "      <th>LATDD</th>\n",
       "      <th>LONDD</th>\n",
       "      <th>orgc_stock_mineral</th>\n",
       "    </tr>\n",
       "  </thead>\n",
       "  <tbody>\n",
       "    <tr>\n",
       "      <th>0</th>\n",
       "      <td>41.06944</td>\n",
       "      <td>19.99556</td>\n",
       "      <td>12.11205</td>\n",
       "    </tr>\n",
       "    <tr>\n",
       "      <th>1</th>\n",
       "      <td>40.21500</td>\n",
       "      <td>20.64722</td>\n",
       "      <td>6.79968</td>\n",
       "    </tr>\n",
       "    <tr>\n",
       "      <th>2</th>\n",
       "      <td>40.34528</td>\n",
       "      <td>19.48361</td>\n",
       "      <td>15.78198</td>\n",
       "    </tr>\n",
       "    <tr>\n",
       "      <th>3</th>\n",
       "      <td>41.37778</td>\n",
       "      <td>19.77028</td>\n",
       "      <td>17.50674</td>\n",
       "    </tr>\n",
       "    <tr>\n",
       "      <th>4</th>\n",
       "      <td>40.65528</td>\n",
       "      <td>20.95889</td>\n",
       "      <td>7.55993</td>\n",
       "    </tr>\n",
       "  </tbody>\n",
       "</table>\n",
       "</div>"
      ],
      "text/plain": [
       "      LATDD     LONDD  orgc_stock_mineral\n",
       "0  41.06944  19.99556            12.11205\n",
       "1  40.21500  20.64722             6.79968\n",
       "2  40.34528  19.48361            15.78198\n",
       "3  41.37778  19.77028            17.50674\n",
       "4  40.65528  20.95889             7.55993"
      ]
     },
     "execution_count": null,
     "metadata": {},
     "output_type": "execute_result"
    }
   ],
   "source": [
    "wise3[vars_X + [var_Y]].head()"
   ]
  },
  {
   "cell_type": "code",
   "execution_count": null,
   "metadata": {},
   "outputs": [],
   "source": [
    "X = wise3[vars_X].values\n",
    "Y = wise3[var_Y].values"
   ]
  },
  {
   "cell_type": "code",
   "execution_count": null,
   "metadata": {},
   "outputs": [],
   "source": [
    "# Y_scaled = preprocessing.scale(Y)\n",
    "X_scaled = pd.DataFrame(preprocessing.scale(X), columns=vars_X)"
   ]
  },
  {
   "cell_type": "code",
   "execution_count": null,
   "metadata": {},
   "outputs": [],
   "source": [
    "X_train, X_test, Y_train, Y_test = train_test_split(\n",
    "    X_scaled, Y, test_size=0.2, random_state=5)"
   ]
  },
  {
   "cell_type": "markdown",
   "metadata": {},
   "source": [
    "## Helpers"
   ]
  },
  {
   "cell_type": "code",
   "execution_count": null,
   "metadata": {},
   "outputs": [],
   "source": [
    "def correctPcnt(df):\n",
    "    correct = 0\n",
    "    obs = df.shape[0]\n",
    "    for i in range(obs):\n",
    "        if df.loc[i,0.01] <= df.loc[i,'actual'] <= df.loc[i,0.99]:\n",
    "            correct += 1\n",
    "    print(correct/obs)\n",
    "    \n",
    "    \n",
    "\n",
    "def showIntervals(ax, df):\n",
    "    x = np.arange(len(df))\n",
    "    y50 = df[0.5].values\n",
    "    y95 = df[0.95].values\n",
    "    y05 = df[0.05].values\n",
    "    \n",
    "    ax.scatter(x, y50, marker='.')\n",
    "    ax.fill_between(x, y05, y95, color='red', alpha=0.1)\n",
    "    return ax"
   ]
  },
  {
   "cell_type": "markdown",
   "metadata": {},
   "source": [
    "## Random Forest"
   ]
  },
  {
   "cell_type": "code",
   "execution_count": null,
   "metadata": {},
   "outputs": [],
   "source": [
    "from sklearn.ensemble import RandomForestRegressor"
   ]
  },
  {
   "cell_type": "code",
   "execution_count": null,
   "metadata": {},
   "outputs": [],
   "source": [
    "rf = RandomForestRegressor(\n",
    "    n_estimators=200, random_state=0, min_samples_split=20)"
   ]
  },
  {
   "cell_type": "code",
   "execution_count": null,
   "metadata": {},
   "outputs": [
    {
     "name": "stdout",
     "output_type": "stream",
     "text": [
      "CPU times: user 396 ms, sys: 8.67 ms, total: 405 ms\n",
      "Wall time: 431 ms\n"
     ]
    },
    {
     "data": {
      "text/plain": [
       "RandomForestRegressor(min_samples_split=20, n_estimators=200, random_state=0)"
      ]
     },
     "execution_count": null,
     "metadata": {},
     "output_type": "execute_result"
    }
   ],
   "source": [
    "%%time\n",
    "\n",
    "rf.fit(X_train, Y_train)"
   ]
  },
  {
   "cell_type": "code",
   "execution_count": null,
   "metadata": {},
   "outputs": [
    {
     "name": "stdout",
     "output_type": "stream",
     "text": [
      "CPU times: user 525 ms, sys: 42.3 ms, total: 567 ms\n",
      "Wall time: 650 ms\n"
     ]
    },
    {
     "data": {
      "text/html": [
       "<div>\n",
       "<style scoped>\n",
       "    .dataframe tbody tr th:only-of-type {\n",
       "        vertical-align: middle;\n",
       "    }\n",
       "\n",
       "    .dataframe tbody tr th {\n",
       "        vertical-align: top;\n",
       "    }\n",
       "\n",
       "    .dataframe thead th {\n",
       "        text-align: right;\n",
       "    }\n",
       "</style>\n",
       "<table border=\"1\" class=\"dataframe\">\n",
       "  <thead>\n",
       "    <tr style=\"text-align: right;\">\n",
       "      <th>tree</th>\n",
       "      <th>0</th>\n",
       "      <th>1</th>\n",
       "      <th>2</th>\n",
       "      <th>3</th>\n",
       "      <th>4</th>\n",
       "      <th>5</th>\n",
       "      <th>6</th>\n",
       "      <th>7</th>\n",
       "      <th>8</th>\n",
       "      <th>9</th>\n",
       "      <th>...</th>\n",
       "      <th>190</th>\n",
       "      <th>191</th>\n",
       "      <th>192</th>\n",
       "      <th>193</th>\n",
       "      <th>194</th>\n",
       "      <th>195</th>\n",
       "      <th>196</th>\n",
       "      <th>197</th>\n",
       "      <th>198</th>\n",
       "      <th>199</th>\n",
       "    </tr>\n",
       "    <tr>\n",
       "      <th>sample</th>\n",
       "      <th></th>\n",
       "      <th></th>\n",
       "      <th></th>\n",
       "      <th></th>\n",
       "      <th></th>\n",
       "      <th></th>\n",
       "      <th></th>\n",
       "      <th></th>\n",
       "      <th></th>\n",
       "      <th></th>\n",
       "      <th></th>\n",
       "      <th></th>\n",
       "      <th></th>\n",
       "      <th></th>\n",
       "      <th></th>\n",
       "      <th></th>\n",
       "      <th></th>\n",
       "      <th></th>\n",
       "      <th></th>\n",
       "      <th></th>\n",
       "      <th></th>\n",
       "    </tr>\n",
       "  </thead>\n",
       "  <tbody>\n",
       "    <tr>\n",
       "      <th>0</th>\n",
       "      <td>15.956258</td>\n",
       "      <td>24.644092</td>\n",
       "      <td>13.979056</td>\n",
       "      <td>24.127283</td>\n",
       "      <td>17.095099</td>\n",
       "      <td>13.508756</td>\n",
       "      <td>14.832630</td>\n",
       "      <td>15.497670</td>\n",
       "      <td>22.459750</td>\n",
       "      <td>15.595326</td>\n",
       "      <td>...</td>\n",
       "      <td>17.586784</td>\n",
       "      <td>15.317572</td>\n",
       "      <td>19.873644</td>\n",
       "      <td>15.296443</td>\n",
       "      <td>16.448525</td>\n",
       "      <td>13.400374</td>\n",
       "      <td>30.076100</td>\n",
       "      <td>14.350118</td>\n",
       "      <td>14.621090</td>\n",
       "      <td>12.572215</td>\n",
       "    </tr>\n",
       "    <tr>\n",
       "      <th>1</th>\n",
       "      <td>12.214553</td>\n",
       "      <td>16.398341</td>\n",
       "      <td>10.902211</td>\n",
       "      <td>15.743885</td>\n",
       "      <td>13.117909</td>\n",
       "      <td>10.906615</td>\n",
       "      <td>11.878885</td>\n",
       "      <td>11.727437</td>\n",
       "      <td>18.444524</td>\n",
       "      <td>13.461772</td>\n",
       "      <td>...</td>\n",
       "      <td>17.806181</td>\n",
       "      <td>12.712643</td>\n",
       "      <td>11.473017</td>\n",
       "      <td>8.682470</td>\n",
       "      <td>15.187785</td>\n",
       "      <td>13.592109</td>\n",
       "      <td>11.187688</td>\n",
       "      <td>10.872231</td>\n",
       "      <td>12.631457</td>\n",
       "      <td>11.579479</td>\n",
       "    </tr>\n",
       "    <tr>\n",
       "      <th>2</th>\n",
       "      <td>18.577691</td>\n",
       "      <td>9.090967</td>\n",
       "      <td>8.751400</td>\n",
       "      <td>11.324932</td>\n",
       "      <td>15.500847</td>\n",
       "      <td>9.100156</td>\n",
       "      <td>7.738221</td>\n",
       "      <td>8.030645</td>\n",
       "      <td>7.957899</td>\n",
       "      <td>8.707591</td>\n",
       "      <td>...</td>\n",
       "      <td>22.398863</td>\n",
       "      <td>21.190635</td>\n",
       "      <td>15.048507</td>\n",
       "      <td>8.119400</td>\n",
       "      <td>8.431457</td>\n",
       "      <td>8.924891</td>\n",
       "      <td>10.321862</td>\n",
       "      <td>9.229448</td>\n",
       "      <td>10.829841</td>\n",
       "      <td>12.731263</td>\n",
       "    </tr>\n",
       "    <tr>\n",
       "      <th>3</th>\n",
       "      <td>9.408968</td>\n",
       "      <td>15.493031</td>\n",
       "      <td>10.261901</td>\n",
       "      <td>5.765315</td>\n",
       "      <td>10.118176</td>\n",
       "      <td>7.603638</td>\n",
       "      <td>15.347331</td>\n",
       "      <td>9.378681</td>\n",
       "      <td>14.034660</td>\n",
       "      <td>19.297163</td>\n",
       "      <td>...</td>\n",
       "      <td>4.403134</td>\n",
       "      <td>13.733603</td>\n",
       "      <td>9.203998</td>\n",
       "      <td>15.556800</td>\n",
       "      <td>8.431457</td>\n",
       "      <td>20.368192</td>\n",
       "      <td>10.321862</td>\n",
       "      <td>18.602527</td>\n",
       "      <td>5.229265</td>\n",
       "      <td>9.926824</td>\n",
       "    </tr>\n",
       "    <tr>\n",
       "      <th>4</th>\n",
       "      <td>7.543050</td>\n",
       "      <td>7.695859</td>\n",
       "      <td>3.008222</td>\n",
       "      <td>4.408096</td>\n",
       "      <td>4.850700</td>\n",
       "      <td>5.840176</td>\n",
       "      <td>7.547152</td>\n",
       "      <td>8.430203</td>\n",
       "      <td>4.636586</td>\n",
       "      <td>4.598065</td>\n",
       "      <td>...</td>\n",
       "      <td>5.709000</td>\n",
       "      <td>4.071197</td>\n",
       "      <td>7.680896</td>\n",
       "      <td>5.551459</td>\n",
       "      <td>8.343100</td>\n",
       "      <td>15.851378</td>\n",
       "      <td>4.351053</td>\n",
       "      <td>12.498314</td>\n",
       "      <td>5.602484</td>\n",
       "      <td>3.642186</td>\n",
       "    </tr>\n",
       "  </tbody>\n",
       "</table>\n",
       "<p>5 rows × 200 columns</p>\n",
       "</div>"
      ],
      "text/plain": [
       "tree          0          1          2          3          4          5    \\\n",
       "sample                                                                     \n",
       "0       15.956258  24.644092  13.979056  24.127283  17.095099  13.508756   \n",
       "1       12.214553  16.398341  10.902211  15.743885  13.117909  10.906615   \n",
       "2       18.577691   9.090967   8.751400  11.324932  15.500847   9.100156   \n",
       "3        9.408968  15.493031  10.261901   5.765315  10.118176   7.603638   \n",
       "4        7.543050   7.695859   3.008222   4.408096   4.850700   5.840176   \n",
       "\n",
       "tree          6          7          8          9    ...        190        191  \\\n",
       "sample                                              ...                         \n",
       "0       14.832630  15.497670  22.459750  15.595326  ...  17.586784  15.317572   \n",
       "1       11.878885  11.727437  18.444524  13.461772  ...  17.806181  12.712643   \n",
       "2        7.738221   8.030645   7.957899   8.707591  ...  22.398863  21.190635   \n",
       "3       15.347331   9.378681  14.034660  19.297163  ...   4.403134  13.733603   \n",
       "4        7.547152   8.430203   4.636586   4.598065  ...   5.709000   4.071197   \n",
       "\n",
       "tree          192        193        194        195        196        197  \\\n",
       "sample                                                                     \n",
       "0       19.873644  15.296443  16.448525  13.400374  30.076100  14.350118   \n",
       "1       11.473017   8.682470  15.187785  13.592109  11.187688  10.872231   \n",
       "2       15.048507   8.119400   8.431457   8.924891  10.321862   9.229448   \n",
       "3        9.203998  15.556800   8.431457  20.368192  10.321862  18.602527   \n",
       "4        7.680896   5.551459   8.343100  15.851378   4.351053  12.498314   \n",
       "\n",
       "tree          198        199  \n",
       "sample                        \n",
       "0       14.621090  12.572215  \n",
       "1       12.631457  11.579479  \n",
       "2       10.829841  12.731263  \n",
       "3        5.229265   9.926824  \n",
       "4        5.602484   3.642186  \n",
       "\n",
       "[5 rows x 200 columns]"
      ]
     },
     "execution_count": null,
     "metadata": {},
     "output_type": "execute_result"
    }
   ],
   "source": [
    "%%time \n",
    "\n",
    "# Get the predictions of all trees for all observations\n",
    "# Each observation has N predictions from the N trees\n",
    "\n",
    "pred_Q = pd.DataFrame()\n",
    "for pred in rf.estimators_:\n",
    "    temp = pd.Series(pred.predict(X_test))#.round(2))\n",
    "    pred_Q = pd.concat([pred_Q,temp],axis=1)\n",
    "    \n",
    "pred_Q.columns = range(len(rf.estimators_))\n",
    "pred_Q.columns.name = 'tree'\n",
    "pred_Q.index.name = 'sample'\n",
    "pred_Q.head()"
   ]
  },
  {
   "cell_type": "code",
   "execution_count": null,
   "metadata": {},
   "outputs": [],
   "source": [
    "quantiles = [0.01, 0.05, 0.50, 0.95 , 0.99]"
   ]
  },
  {
   "cell_type": "code",
   "execution_count": null,
   "metadata": {},
   "outputs": [
    {
     "name": "stdout",
     "output_type": "stream",
     "text": [
      "R2 score is 0.1532692863651801\n",
      "0.7804054054054054\n"
     ]
    },
    {
     "data": {
      "image/png": "[encoded data removed]",
      "text/plain": [
       "<Figure size 864x360 with 1 Axes>"
      ]
     },
     "metadata": {
      "needs_background": "light"
     },
     "output_type": "display_data"
    }
   ],
   "source": [
    "RF_actual_pred = pd.DataFrame()\n",
    "\n",
    "for q in quantiles:\n",
    "    s = pred_Q.quantile(q=q, axis=1)\n",
    "    RF_actual_pred = pd.concat([RF_actual_pred,s],axis=1,sort=False)\n",
    "\n",
    "RF_actual_pred.columns = quantiles\n",
    "RF_actual_pred['actual'] = Y_test\n",
    "RF_actual_pred['interval'] = RF_actual_pred[np.max(quantiles)] - RF_actual_pred[np.min(quantiles)]\n",
    "RF_actual_pred = RF_actual_pred.sort_values('interval')\n",
    "RF_actual_pred = RF_actual_pred#.round(2)\n",
    "\n",
    "# Get the R-squared\n",
    "r2 = sklearn.metrics.r2_score(RF_actual_pred['actual'], RF_actual_pred[0.5])#.round(2)\n",
    "print('R2 score is {}'.format(r2) )  # 0.81\n",
    "\n",
    "# Get the correct percentage\n",
    "correctPcnt(RF_actual_pred) # 0.9509\n",
    "\n",
    "# Show the intervals\n",
    "fig, ax = plt.subplots(nrows=1, ncols=1, figsize=(12, 5))\n",
    "ax = showIntervals(ax, RF_actual_pred) \n",
    "ax.set_ylabel(var_Y)\n",
    "ax.set_xlabel('sample');\n",
    "ax.set_title('Samples sorted by confidence interval');"
   ]
  },
  {
   "cell_type": "markdown",
   "metadata": {},
   "source": [
    "# References\n",
    "- https://medium.com/dataman-in-ai/a-tutorial-on-quantile-regression-quantile-random-forests-and-quantile-gbm-d3c651af7516"
   ]
  },
  {
   "cell_type": "code",
   "execution_count": null,
   "metadata": {},
   "outputs": [],
   "source": []
  }
 ],
 "metadata": {
  "kernelspec": {
   "display_name": "Python 3",
   "language": "python",
   "name": "python3"
  }
 },
 "nbformat": 4,
 "nbformat_minor": 4
}

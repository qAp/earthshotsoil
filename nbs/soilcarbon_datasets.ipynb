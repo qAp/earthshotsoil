{
 "cells": [
  {
   "cell_type": "markdown",
   "metadata": {},
   "source": [
    "# WISE Global Soil Profile Data, version 3.1\n",
    "\n",
    "[WISE - Global Soil Profile Data, version 3.1](https://data.isric.org/geonetwork/srv/eng/catalog.search#/metadata/a351682c-330a-4995-a5a1-57ad160e621c)"
   ]
  },
  {
   "cell_type": "code",
   "execution_count": null,
   "metadata": {},
   "outputs": [],
   "source": [
    "import os, io, subprocess\n",
    "from pathlib import Path\n",
    "import numpy as np\n",
    "import pandas as pd\n",
    "import matplotlib.pyplot as plt\n",
    "\n",
    "from earthshotsoil.core import *"
   ]
  },
  {
   "cell_type": "code",
   "execution_count": null,
   "metadata": {},
   "outputs": [],
   "source": [
    "DIR_DATA = Path('../data')"
   ]
  },
  {
   "cell_type": "markdown",
   "metadata": {},
   "source": [
    "Download and unpack dataset."
   ]
  },
  {
   "cell_type": "code",
   "execution_count": null,
   "metadata": {},
   "outputs": [
    {
     "name": "stdout",
     "output_type": "stream",
     "text": [
      "--2021-01-18 13:40:58--  https://files.isric.org/public/wise/WD-WISE.zip\n",
      "Resolving files.isric.org (files.isric.org)... 137.224.9.5\n",
      "Connecting to files.isric.org (files.isric.org)|137.224.9.5|:443... connected.\n",
      "HTTP request sent, awaiting response... 200 OK\n",
      "Length: 3253519 (3.1M) [application/zip]\n",
      "Saving to: ‘WD-WISE.zip.1’\n",
      "\n",
      "WD-WISE.zip.1       100%[===================>]   3.10M   206KB/s    in 17s     \n",
      "\n",
      "2021-01-18 13:41:17 (190 KB/s) - ‘WD-WISE.zip.1’ saved [3253519/3253519]\n",
      "\n"
     ]
    }
   ],
   "source": [
    "# ! wget https://files.isric.org/public/wise/WD-WISE.zip"
   ]
  },
  {
   "cell_type": "code",
   "execution_count": null,
   "metadata": {},
   "outputs": [
    {
     "name": "stdout",
     "output_type": "stream",
     "text": [
      "Archive:  WD-WISE.zip\n",
      "   creating: ISRIC_report_2008_02/\n",
      "  inflating: ISRIC_report_2008_02/ISRIC-WISE_ver3.mdb  \n",
      "  inflating: ISRIC_report_2008_02/ISRIC_Report_2008_02.pdf  \n"
     ]
    }
   ],
   "source": [
    "# ! unzip WD-WISE.zip"
   ]
  },
  {
   "cell_type": "markdown",
   "metadata": {},
   "source": [
    "## Converting mdb tables to csv files"
   ]
  },
  {
   "cell_type": "markdown",
   "metadata": {},
   "source": [
    "Install *mdbtools* for MACOS and python package `meza`."
   ]
  },
  {
   "cell_type": "code",
   "execution_count": null,
   "metadata": {},
   "outputs": [],
   "source": [
    "# ! brew install mdbtools\n",
    "# ! pip install meza"
   ]
  },
  {
   "cell_type": "code",
   "execution_count": null,
   "metadata": {},
   "outputs": [],
   "source": [
    "path_wisesoil = 'ISRIC_report_2008_02/ISRIC-WISE_ver3.mdb'"
   ]
  },
  {
   "cell_type": "code",
   "execution_count": null,
   "metadata": {},
   "outputs": [
    {
     "data": {
      "text/plain": [
       "['WISE3__ReadMeFirst',\n",
       " 'WISE3_coding_conventions',\n",
       " 'WISE3_HORIZON',\n",
       " 'WISE3_LABcodes_Description',\n",
       " 'WISE3_LABname',\n",
       " 'WISE3_LABname_codes',\n",
       " 'WISE3_SITE',\n",
       " 'WISE3_SOURCE']"
      ]
     },
     "execution_count": null,
     "metadata": {},
     "output_type": "execute_result"
    }
   ],
   "source": [
    "table_names = subprocess.check_output(['mdb-tables', path_wisesoil])\n",
    "table_names = table_names.decode().split()\n",
    "table_names"
   ]
  },
  {
   "cell_type": "code",
   "execution_count": null,
   "metadata": {},
   "outputs": [],
   "source": [
    "dir_csv = 'ISRIC_report_2008_02_csv/'\n",
    "os.makedirs(dir_csv, exist_ok=True)"
   ]
  },
  {
   "cell_type": "code",
   "execution_count": null,
   "metadata": {},
   "outputs": [
    {
     "name": "stdout",
     "output_type": "stream",
     "text": [
      "CPU times: user 16.2 ms, sys: 45.1 ms, total: 61.3 ms\n",
      "Wall time: 1.98 s\n"
     ]
    }
   ],
   "source": [
    "%%time\n",
    "\n",
    "for table_name in table_names:\n",
    "    \n",
    "    table = subprocess.check_output(\n",
    "        ['mdb-export', path_wisesoil, table_name])\n",
    "    \n",
    "    with open(f'{dir_csv}/{table_name}.csv', mode='w') as f:\n",
    "        f.write(table.decode())"
   ]
  },
  {
   "cell_type": "code",
   "execution_count": null,
   "metadata": {},
   "outputs": [
    {
     "name": "stdout",
     "output_type": "stream",
     "text": [
      "WISE3_HORIZON.csv              WISE3_SITE.csv\r\n",
      "WISE3_LABcodes_Description.csv WISE3_SOURCE.csv\r\n",
      "WISE3_LABname.csv              WISE3__ReadMeFirst.csv\r\n",
      "WISE3_LABname_codes.csv        WISE3_coding_conventions.csv\r\n"
     ]
    }
   ],
   "source": [
    "! ls ISRIC_report_2008_02_csv/"
   ]
  },
  {
   "cell_type": "code",
   "execution_count": null,
   "metadata": {},
   "outputs": [
    {
     "data": {
      "text/html": [
       "<div>\n",
       "<style scoped>\n",
       "    .dataframe tbody tr th:only-of-type {\n",
       "        vertical-align: middle;\n",
       "    }\n",
       "\n",
       "    .dataframe tbody tr th {\n",
       "        vertical-align: top;\n",
       "    }\n",
       "\n",
       "    .dataframe thead th {\n",
       "        text-align: right;\n",
       "    }\n",
       "</style>\n",
       "<table border=\"1\" class=\"dataframe\">\n",
       "  <thead>\n",
       "    <tr style=\"text-align: right;\">\n",
       "      <th></th>\n",
       "      <th>WISE3_id</th>\n",
       "      <th>ISO</th>\n",
       "      <th>DESCR</th>\n",
       "      <th>DATEYR</th>\n",
       "      <th>DATEMON</th>\n",
       "      <th>SOLDEP</th>\n",
       "      <th>HORNUM</th>\n",
       "      <th>FAO_90</th>\n",
       "      <th>PHA_90</th>\n",
       "      <th>FAO_74</th>\n",
       "      <th>...</th>\n",
       "      <th>LFORM</th>\n",
       "      <th>POSIT</th>\n",
       "      <th>SLOPE</th>\n",
       "      <th>PARMAT</th>\n",
       "      <th>DRAIN</th>\n",
       "      <th>LANDUS</th>\n",
       "      <th>SOURCE_ID</th>\n",
       "      <th>PITREF</th>\n",
       "      <th>LAB_ID</th>\n",
       "      <th>COUNTRY</th>\n",
       "    </tr>\n",
       "  </thead>\n",
       "  <tbody>\n",
       "    <tr>\n",
       "      <th>0</th>\n",
       "      <td>AF0001</td>\n",
       "      <td>AF</td>\n",
       "      <td>3</td>\n",
       "      <td>1962.0</td>\n",
       "      <td>NaN</td>\n",
       "      <td>150</td>\n",
       "      <td>3</td>\n",
       "      <td>CLl</td>\n",
       "      <td>NaN</td>\n",
       "      <td>Bk</td>\n",
       "      <td>...</td>\n",
       "      <td>LV</td>\n",
       "      <td>LS</td>\n",
       "      <td>NaN</td>\n",
       "      <td>UC</td>\n",
       "      <td>W</td>\n",
       "      <td>AA4</td>\n",
       "      <td>AS3/73</td>\n",
       "      <td>Profile 16 p10-11.</td>\n",
       "      <td>AF01</td>\n",
       "      <td>Afghanistan</td>\n",
       "    </tr>\n",
       "    <tr>\n",
       "      <th>1</th>\n",
       "      <td>AF0002</td>\n",
       "      <td>AF</td>\n",
       "      <td>3</td>\n",
       "      <td>1962.0</td>\n",
       "      <td>NaN</td>\n",
       "      <td>170</td>\n",
       "      <td>4</td>\n",
       "      <td>FLc</td>\n",
       "      <td>NaN</td>\n",
       "      <td>Jc</td>\n",
       "      <td>...</td>\n",
       "      <td>LV</td>\n",
       "      <td>LS</td>\n",
       "      <td>NaN</td>\n",
       "      <td>UF</td>\n",
       "      <td>M</td>\n",
       "      <td>AA6</td>\n",
       "      <td>AS3/73</td>\n",
       "      <td>Profile 20, pp 15-16.</td>\n",
       "      <td>AF01</td>\n",
       "      <td>Afghanistan</td>\n",
       "    </tr>\n",
       "    <tr>\n",
       "      <th>2</th>\n",
       "      <td>AF0003</td>\n",
       "      <td>AF</td>\n",
       "      <td>3</td>\n",
       "      <td>1962.0</td>\n",
       "      <td>NaN</td>\n",
       "      <td>110</td>\n",
       "      <td>3</td>\n",
       "      <td>FLc</td>\n",
       "      <td>NaN</td>\n",
       "      <td>Jc</td>\n",
       "      <td>...</td>\n",
       "      <td>LV</td>\n",
       "      <td>LO</td>\n",
       "      <td>NaN</td>\n",
       "      <td>UF</td>\n",
       "      <td>P</td>\n",
       "      <td>AA6</td>\n",
       "      <td>AS3/73</td>\n",
       "      <td>Profile 41, pp 20-21.</td>\n",
       "      <td>AF01</td>\n",
       "      <td>Afghanistan</td>\n",
       "    </tr>\n",
       "    <tr>\n",
       "      <th>3</th>\n",
       "      <td>AF0004</td>\n",
       "      <td>AF</td>\n",
       "      <td>3</td>\n",
       "      <td>1962.0</td>\n",
       "      <td>NaN</td>\n",
       "      <td>270</td>\n",
       "      <td>6</td>\n",
       "      <td>SCg</td>\n",
       "      <td>NaN</td>\n",
       "      <td>Zo</td>\n",
       "      <td>...</td>\n",
       "      <td>LV</td>\n",
       "      <td>BO</td>\n",
       "      <td>NaN</td>\n",
       "      <td>UF</td>\n",
       "      <td>M</td>\n",
       "      <td>AA4</td>\n",
       "      <td>AS3/73</td>\n",
       "      <td>Profile 17, pp 96-97.</td>\n",
       "      <td>AF01</td>\n",
       "      <td>Afghanistan</td>\n",
       "    </tr>\n",
       "    <tr>\n",
       "      <th>4</th>\n",
       "      <td>AF0005</td>\n",
       "      <td>AF</td>\n",
       "      <td>3</td>\n",
       "      <td>1962.0</td>\n",
       "      <td>NaN</td>\n",
       "      <td>190</td>\n",
       "      <td>6</td>\n",
       "      <td>SCk</td>\n",
       "      <td>NaN</td>\n",
       "      <td>Zo</td>\n",
       "      <td>...</td>\n",
       "      <td>LV</td>\n",
       "      <td>LO</td>\n",
       "      <td>NaN</td>\n",
       "      <td>UF</td>\n",
       "      <td>P</td>\n",
       "      <td>HE2</td>\n",
       "      <td>AS3/73</td>\n",
       "      <td>Profile 21, pp 74-75.</td>\n",
       "      <td>AF01</td>\n",
       "      <td>Afghanistan</td>\n",
       "    </tr>\n",
       "    <tr>\n",
       "      <th>...</th>\n",
       "      <td>...</td>\n",
       "      <td>...</td>\n",
       "      <td>...</td>\n",
       "      <td>...</td>\n",
       "      <td>...</td>\n",
       "      <td>...</td>\n",
       "      <td>...</td>\n",
       "      <td>...</td>\n",
       "      <td>...</td>\n",
       "      <td>...</td>\n",
       "      <td>...</td>\n",
       "      <td>...</td>\n",
       "      <td>...</td>\n",
       "      <td>...</td>\n",
       "      <td>...</td>\n",
       "      <td>...</td>\n",
       "      <td>...</td>\n",
       "      <td>...</td>\n",
       "      <td>...</td>\n",
       "      <td>...</td>\n",
       "      <td>...</td>\n",
       "    </tr>\n",
       "    <tr>\n",
       "      <th>10248</th>\n",
       "      <td>ZW0063</td>\n",
       "      <td>ZW</td>\n",
       "      <td>2</td>\n",
       "      <td>1991.0</td>\n",
       "      <td>NaN</td>\n",
       "      <td>138</td>\n",
       "      <td>6</td>\n",
       "      <td>LXh</td>\n",
       "      <td>NaN</td>\n",
       "      <td>Lc</td>\n",
       "      <td>...</td>\n",
       "      <td>SH</td>\n",
       "      <td>CR</td>\n",
       "      <td>3</td>\n",
       "      <td>IB1</td>\n",
       "      <td>W</td>\n",
       "      <td>NaN</td>\n",
       "      <td>AF4/KM</td>\n",
       "      <td>Pit 5E2, p. 136</td>\n",
       "      <td>ZW01</td>\n",
       "      <td>Zimbabwe</td>\n",
       "    </tr>\n",
       "    <tr>\n",
       "      <th>10249</th>\n",
       "      <td>ZW0064</td>\n",
       "      <td>ZW</td>\n",
       "      <td>2</td>\n",
       "      <td>1991.0</td>\n",
       "      <td>NaN</td>\n",
       "      <td>200</td>\n",
       "      <td>6</td>\n",
       "      <td>LXh</td>\n",
       "      <td>NaN</td>\n",
       "      <td>Lf</td>\n",
       "      <td>...</td>\n",
       "      <td>SH</td>\n",
       "      <td>NaN</td>\n",
       "      <td>NaN</td>\n",
       "      <td>IA1</td>\n",
       "      <td>W</td>\n",
       "      <td>U</td>\n",
       "      <td>AF4/KM</td>\n",
       "      <td>Pit 5G2, P. 130</td>\n",
       "      <td>ZW01</td>\n",
       "      <td>Zimbabwe</td>\n",
       "    </tr>\n",
       "    <tr>\n",
       "      <th>10250</th>\n",
       "      <td>ZW0065</td>\n",
       "      <td>ZW</td>\n",
       "      <td>2</td>\n",
       "      <td>1991.0</td>\n",
       "      <td>NaN</td>\n",
       "      <td>68</td>\n",
       "      <td>4</td>\n",
       "      <td>PHl</td>\n",
       "      <td>NaN</td>\n",
       "      <td>Hl</td>\n",
       "      <td>...</td>\n",
       "      <td>LL</td>\n",
       "      <td>NaN</td>\n",
       "      <td>NaN</td>\n",
       "      <td>MB</td>\n",
       "      <td>W</td>\n",
       "      <td>AA4</td>\n",
       "      <td>AF4/KM</td>\n",
       "      <td>Pit 4PE2. p. 121</td>\n",
       "      <td>ZW01</td>\n",
       "      <td>Zimbabwe</td>\n",
       "    </tr>\n",
       "    <tr>\n",
       "      <th>10251</th>\n",
       "      <td>ZW0066</td>\n",
       "      <td>ZW</td>\n",
       "      <td>2</td>\n",
       "      <td>1991.0</td>\n",
       "      <td>NaN</td>\n",
       "      <td>92</td>\n",
       "      <td>3</td>\n",
       "      <td>VRe</td>\n",
       "      <td>NaN</td>\n",
       "      <td>Vp</td>\n",
       "      <td>...</td>\n",
       "      <td>LL</td>\n",
       "      <td>NaN</td>\n",
       "      <td>1</td>\n",
       "      <td>IB2</td>\n",
       "      <td>W</td>\n",
       "      <td>U</td>\n",
       "      <td>AF4/KM</td>\n",
       "      <td>Pit 3B2, p. 112</td>\n",
       "      <td>ZW01</td>\n",
       "      <td>Zimbabwe</td>\n",
       "    </tr>\n",
       "    <tr>\n",
       "      <th>10252</th>\n",
       "      <td>ZW0067</td>\n",
       "      <td>ZW</td>\n",
       "      <td>1</td>\n",
       "      <td>1992.0</td>\n",
       "      <td>6.0</td>\n",
       "      <td>220</td>\n",
       "      <td>7</td>\n",
       "      <td>PTa</td>\n",
       "      <td>NaN</td>\n",
       "      <td>Ap</td>\n",
       "      <td>...</td>\n",
       "      <td>NaN</td>\n",
       "      <td>NaN</td>\n",
       "      <td>0</td>\n",
       "      <td>NaN</td>\n",
       "      <td>I</td>\n",
       "      <td>AA</td>\n",
       "      <td>ISIS-2005</td>\n",
       "      <td>ZW011_ISIS5</td>\n",
       "      <td>NL01</td>\n",
       "      <td>Zimbabwe</td>\n",
       "    </tr>\n",
       "  </tbody>\n",
       "</table>\n",
       "<p>10253 rows × 31 columns</p>\n",
       "</div>"
      ],
      "text/plain": [
       "      WISE3_id ISO  DESCR  DATEYR  DATEMON  SOLDEP  HORNUM FAO_90 PHA_90  \\\n",
       "0       AF0001  AF      3  1962.0      NaN     150       3    CLl    NaN   \n",
       "1       AF0002  AF      3  1962.0      NaN     170       4    FLc    NaN   \n",
       "2       AF0003  AF      3  1962.0      NaN     110       3    FLc    NaN   \n",
       "3       AF0004  AF      3  1962.0      NaN     270       6    SCg    NaN   \n",
       "4       AF0005  AF      3  1962.0      NaN     190       6    SCk    NaN   \n",
       "...        ...  ..    ...     ...      ...     ...     ...    ...    ...   \n",
       "10248   ZW0063  ZW      2  1991.0      NaN     138       6    LXh    NaN   \n",
       "10249   ZW0064  ZW      2  1991.0      NaN     200       6    LXh    NaN   \n",
       "10250   ZW0065  ZW      2  1991.0      NaN      68       4    PHl    NaN   \n",
       "10251   ZW0066  ZW      2  1991.0      NaN      92       3    VRe    NaN   \n",
       "10252   ZW0067  ZW      1  1992.0      6.0     220       7    PTa    NaN   \n",
       "\n",
       "      FAO_74  ... LFORM POSIT SLOPE  PARMAT DRAIN  LANDUS  SOURCE_ID  \\\n",
       "0         Bk  ...    LV    LS   NaN      UC     W     AA4     AS3/73   \n",
       "1         Jc  ...    LV    LS   NaN      UF     M     AA6     AS3/73   \n",
       "2         Jc  ...    LV    LO   NaN      UF     P     AA6     AS3/73   \n",
       "3         Zo  ...    LV    BO   NaN      UF     M     AA4     AS3/73   \n",
       "4         Zo  ...    LV    LO   NaN      UF     P     HE2     AS3/73   \n",
       "...      ...  ...   ...   ...   ...     ...   ...     ...        ...   \n",
       "10248     Lc  ...    SH    CR     3     IB1     W     NaN     AF4/KM   \n",
       "10249     Lf  ...    SH   NaN   NaN     IA1     W       U     AF4/KM   \n",
       "10250     Hl  ...    LL   NaN   NaN      MB     W     AA4     AF4/KM   \n",
       "10251     Vp  ...    LL   NaN     1     IB2     W       U     AF4/KM   \n",
       "10252     Ap  ...   NaN   NaN     0     NaN     I      AA  ISIS-2005   \n",
       "\n",
       "                      PITREF LAB_ID      COUNTRY  \n",
       "0         Profile 16 p10-11.   AF01  Afghanistan  \n",
       "1      Profile 20, pp 15-16.   AF01  Afghanistan  \n",
       "2      Profile 41, pp 20-21.   AF01  Afghanistan  \n",
       "3      Profile 17, pp 96-97.   AF01  Afghanistan  \n",
       "4      Profile 21, pp 74-75.   AF01  Afghanistan  \n",
       "...                      ...    ...          ...  \n",
       "10248        Pit 5E2, p. 136   ZW01     Zimbabwe  \n",
       "10249        Pit 5G2, P. 130   ZW01     Zimbabwe  \n",
       "10250       Pit 4PE2. p. 121   ZW01     Zimbabwe  \n",
       "10251        Pit 3B2, p. 112   ZW01     Zimbabwe  \n",
       "10252            ZW011_ISIS5   NL01     Zimbabwe  \n",
       "\n",
       "[10253 rows x 31 columns]"
      ]
     },
     "execution_count": null,
     "metadata": {},
     "output_type": "execute_result"
    }
   ],
   "source": [
    "pd.read_csv('ISRIC_report_2008_02_csv/WISE3_SITE.csv')"
   ]
  },
  {
   "cell_type": "markdown",
   "metadata": {},
   "source": [
    "## Vertical profiles"
   ]
  },
  {
   "cell_type": "code",
   "execution_count": null,
   "metadata": {},
   "outputs": [],
   "source": [
    "pth_wise3 = (\n",
    "    DIR_DATA / 'ISRIC_report_2008_02_csv' / 'WISE3_HORIZON.csv')"
   ]
  },
  {
   "cell_type": "code",
   "execution_count": null,
   "metadata": {},
   "outputs": [],
   "source": [
    "wise3 = pd.read_csv(pth_wise3)\n",
    "wise3.columns = [c.lower() for c in wise3.columns]"
   ]
  },
  {
   "cell_type": "code",
   "execution_count": null,
   "metadata": {},
   "outputs": [],
   "source": [
    "wise3['seglen'] = wise3.botdep - wise3.topdep\n",
    "wise3 = wise3[wise3.seglen > 0]"
   ]
  },
  {
   "cell_type": "code",
   "execution_count": null,
   "metadata": {},
   "outputs": [],
   "source": [
    "wise3 = wise3[['wise3_id', 'topdep', 'botdep', 'orgc', ]]"
   ]
  },
  {
   "cell_type": "code",
   "execution_count": null,
   "metadata": {},
   "outputs": [],
   "source": [
    "wise3.fillna(0, inplace=True)"
   ]
  },
  {
   "cell_type": "code",
   "execution_count": null,
   "metadata": {},
   "outputs": [],
   "source": [
    "wise3['orgc'] = (wise3.orgc - wise3.orgc.min()) / (wise3.orgc.max() - wise3.orgc.min())"
   ]
  },
  {
   "cell_type": "code",
   "execution_count": null,
   "metadata": {},
   "outputs": [],
   "source": [
    "orgc_sites = iter(wise3.groupby('wise3_id'))"
   ]
  },
  {
   "cell_type": "code",
   "execution_count": null,
   "metadata": {},
   "outputs": [],
   "source": [
    "def profile_df2array(df, max_depth=200):\n",
    "    out = np.zeros(max_depth, dtype=np.float32)\n",
    "    df.botdep.clip(upper=max_depth, inplace=True)\n",
    "    for _, r in df.iterrows():\n",
    "        out[r.topdep:r.botdep] = r.orgc\n",
    "\n",
    "    return out"
   ]
  },
  {
   "cell_type": "code",
   "execution_count": null,
   "metadata": {},
   "outputs": [],
   "source": [
    "count = 0\n",
    "ids = []\n",
    "profiles = []\n",
    "while True:\n",
    "    count += 1\n",
    "    if count > 1000:\n",
    "        break\n",
    "    \n",
    "    id, df = next(orgc_sites)\n",
    "    \n",
    "    ids.append(id)\n",
    "    profiles.append(profile_df2array(df))"
   ]
  },
  {
   "cell_type": "code",
   "execution_count": null,
   "metadata": {},
   "outputs": [],
   "source": [
    "profiles = np.stack(profiles, axis=1)"
   ]
  },
  {
   "cell_type": "code",
   "execution_count": null,
   "metadata": {},
   "outputs": [
    {
     "data": {
      "image/png": "[encoded data removed]",
      "text/plain": [
       "<Figure size 1440x1440 with 1 Axes>"
      ]
     },
     "metadata": {
      "needs_background": "light"
     },
     "output_type": "display_data"
    }
   ],
   "source": [
    "fig, ax = plt.subplots(figsize=(20, 20))\n",
    "ax.imshow(profiles)\n",
    "ax.axis('off');"
   ]
  },
  {
   "cell_type": "code",
   "execution_count": null,
   "metadata": {},
   "outputs": [],
   "source": []
  },
  {
   "cell_type": "markdown",
   "metadata": {},
   "source": [
    "## Get carbon stock"
   ]
  },
  {
   "cell_type": "code",
   "execution_count": null,
   "metadata": {},
   "outputs": [],
   "source": [
    "path_data = '../data/ISRIC_report_2008_02_csv/'\n",
    "path_horizon = f'{path_data}/WISE3_HORIZON.csv'\n",
    "\n",
    "horizon = pd.read_csv(path_horizon)\n",
    "horizon.columns = [c.lower() for c in horizon.columns]"
   ]
  },
  {
   "cell_type": "code",
   "execution_count": null,
   "metadata": {},
   "outputs": [
    {
     "data": {
      "text/html": [
       "<div>\n",
       "<style scoped>\n",
       "    .dataframe tbody tr th:only-of-type {\n",
       "        vertical-align: middle;\n",
       "    }\n",
       "\n",
       "    .dataframe tbody tr th {\n",
       "        vertical-align: top;\n",
       "    }\n",
       "\n",
       "    .dataframe thead th {\n",
       "        text-align: right;\n",
       "    }\n",
       "</style>\n",
       "<table border=\"1\" class=\"dataframe\">\n",
       "  <thead>\n",
       "    <tr style=\"text-align: right;\">\n",
       "      <th></th>\n",
       "      <th>wise3_id</th>\n",
       "      <th>honu</th>\n",
       "      <th>desig</th>\n",
       "      <th>topdep</th>\n",
       "      <th>botdep</th>\n",
       "      <th>mcolor</th>\n",
       "      <th>dcolor</th>\n",
       "      <th>orgc</th>\n",
       "      <th>totn</th>\n",
       "      <th>caco3</th>\n",
       "      <th>...</th>\n",
       "      <th>cecsoil</th>\n",
       "      <th>bsat</th>\n",
       "      <th>sand</th>\n",
       "      <th>silt</th>\n",
       "      <th>clay</th>\n",
       "      <th>gravel</th>\n",
       "      <th>bulkdens</th>\n",
       "      <th>vmc1</th>\n",
       "      <th>vmc2</th>\n",
       "      <th>vmc3</th>\n",
       "    </tr>\n",
       "  </thead>\n",
       "  <tbody>\n",
       "    <tr>\n",
       "      <th>0</th>\n",
       "      <td>AF0001</td>\n",
       "      <td>1</td>\n",
       "      <td>NaN</td>\n",
       "      <td>0</td>\n",
       "      <td>15</td>\n",
       "      <td>10YR4/3</td>\n",
       "      <td>10YR4/2</td>\n",
       "      <td>7.6</td>\n",
       "      <td>0.6</td>\n",
       "      <td>93.0</td>\n",
       "      <td>...</td>\n",
       "      <td>NaN</td>\n",
       "      <td>NaN</td>\n",
       "      <td>40.0</td>\n",
       "      <td>40.0</td>\n",
       "      <td>20.0</td>\n",
       "      <td>20.0</td>\n",
       "      <td>NaN</td>\n",
       "      <td>NaN</td>\n",
       "      <td>NaN</td>\n",
       "      <td>NaN</td>\n",
       "    </tr>\n",
       "    <tr>\n",
       "      <th>1</th>\n",
       "      <td>AF0001</td>\n",
       "      <td>2</td>\n",
       "      <td>NaN</td>\n",
       "      <td>15</td>\n",
       "      <td>60</td>\n",
       "      <td>10YR5/3</td>\n",
       "      <td>10YR5/2</td>\n",
       "      <td>2.3</td>\n",
       "      <td>0.3</td>\n",
       "      <td>177.0</td>\n",
       "      <td>...</td>\n",
       "      <td>NaN</td>\n",
       "      <td>NaN</td>\n",
       "      <td>10.0</td>\n",
       "      <td>55.0</td>\n",
       "      <td>35.0</td>\n",
       "      <td>NaN</td>\n",
       "      <td>NaN</td>\n",
       "      <td>NaN</td>\n",
       "      <td>NaN</td>\n",
       "      <td>NaN</td>\n",
       "    </tr>\n",
       "    <tr>\n",
       "      <th>2</th>\n",
       "      <td>AF0001</td>\n",
       "      <td>3</td>\n",
       "      <td>NaN</td>\n",
       "      <td>60</td>\n",
       "      <td>150</td>\n",
       "      <td>10YR5/3</td>\n",
       "      <td>NaN</td>\n",
       "      <td>0.9</td>\n",
       "      <td>0.3</td>\n",
       "      <td>182.0</td>\n",
       "      <td>...</td>\n",
       "      <td>NaN</td>\n",
       "      <td>NaN</td>\n",
       "      <td>10.0</td>\n",
       "      <td>55.0</td>\n",
       "      <td>35.0</td>\n",
       "      <td>NaN</td>\n",
       "      <td>NaN</td>\n",
       "      <td>NaN</td>\n",
       "      <td>NaN</td>\n",
       "      <td>NaN</td>\n",
       "    </tr>\n",
       "    <tr>\n",
       "      <th>3</th>\n",
       "      <td>AF0002</td>\n",
       "      <td>1</td>\n",
       "      <td>NaN</td>\n",
       "      <td>0</td>\n",
       "      <td>20</td>\n",
       "      <td>10YR4/2</td>\n",
       "      <td>NaN</td>\n",
       "      <td>12.8</td>\n",
       "      <td>0.9</td>\n",
       "      <td>191.0</td>\n",
       "      <td>...</td>\n",
       "      <td>NaN</td>\n",
       "      <td>NaN</td>\n",
       "      <td>40.0</td>\n",
       "      <td>40.0</td>\n",
       "      <td>20.0</td>\n",
       "      <td>NaN</td>\n",
       "      <td>NaN</td>\n",
       "      <td>NaN</td>\n",
       "      <td>NaN</td>\n",
       "      <td>NaN</td>\n",
       "    </tr>\n",
       "    <tr>\n",
       "      <th>4</th>\n",
       "      <td>AF0002</td>\n",
       "      <td>2</td>\n",
       "      <td>NaN</td>\n",
       "      <td>20</td>\n",
       "      <td>60</td>\n",
       "      <td>10YR4/2</td>\n",
       "      <td>NaN</td>\n",
       "      <td>6.0</td>\n",
       "      <td>0.6</td>\n",
       "      <td>192.0</td>\n",
       "      <td>...</td>\n",
       "      <td>NaN</td>\n",
       "      <td>NaN</td>\n",
       "      <td>15.0</td>\n",
       "      <td>65.0</td>\n",
       "      <td>20.0</td>\n",
       "      <td>NaN</td>\n",
       "      <td>NaN</td>\n",
       "      <td>NaN</td>\n",
       "      <td>NaN</td>\n",
       "      <td>NaN</td>\n",
       "    </tr>\n",
       "  </tbody>\n",
       "</table>\n",
       "<p>5 rows × 31 columns</p>\n",
       "</div>"
      ],
      "text/plain": [
       "  wise3_id  honu desig  topdep  botdep   mcolor   dcolor  orgc  totn  caco3  \\\n",
       "0   AF0001     1   NaN       0      15  10YR4/3  10YR4/2   7.6   0.6   93.0   \n",
       "1   AF0001     2   NaN      15      60  10YR5/3  10YR5/2   2.3   0.3  177.0   \n",
       "2   AF0001     3   NaN      60     150  10YR5/3      NaN   0.9   0.3  182.0   \n",
       "3   AF0002     1   NaN       0      20  10YR4/2      NaN  12.8   0.9  191.0   \n",
       "4   AF0002     2   NaN      20      60  10YR4/2      NaN   6.0   0.6  192.0   \n",
       "\n",
       "   ...  cecsoil  bsat  sand  silt  clay  gravel  bulkdens  vmc1  vmc2  vmc3  \n",
       "0  ...      NaN   NaN  40.0  40.0  20.0    20.0       NaN   NaN   NaN   NaN  \n",
       "1  ...      NaN   NaN  10.0  55.0  35.0     NaN       NaN   NaN   NaN   NaN  \n",
       "2  ...      NaN   NaN  10.0  55.0  35.0     NaN       NaN   NaN   NaN   NaN  \n",
       "3  ...      NaN   NaN  40.0  40.0  20.0     NaN       NaN   NaN   NaN   NaN  \n",
       "4  ...      NaN   NaN  15.0  65.0  20.0     NaN       NaN   NaN   NaN   NaN  \n",
       "\n",
       "[5 rows x 31 columns]"
      ]
     },
     "execution_count": null,
     "metadata": {},
     "output_type": "execute_result"
    }
   ],
   "source": [
    "horizon.head()"
   ]
  },
  {
   "cell_type": "markdown",
   "metadata": {},
   "source": [
    "`orgc` = $c$. $[c] =  \\frac{g}{kg}.$  \n",
    "`bulkdens` = $b$. $[b] = \\frac{g}{cm^3}.$  \n",
    "`botdep - topdep` = $l$. $[l] = cm.$  \n",
    "\n",
    "\n",
    "Depth of interest:\n",
    "$$\n",
    "L = 100 \\: cm\n",
    "$$\n",
    "\n",
    "Method of calculation:\n",
    "1. Clip off all segments below desired depth.\n",
    "2. Calculate the carbon volume density of each segment.\n",
    "3. For each profile, average its segments' carbon volume densities, weighted by segment length.\n",
    "\n",
    "i.e. for a profile with two segments:\n",
    "$$\n",
    "\\frac{l_1}{L} c_1 b_1 + \\frac{l_2}{L} c_2 b_2 \\quad\n",
    "$$\n",
    "with units:\n",
    "$$\n",
    "\\frac{g}{10^{-3} m^{3}} = \\frac{kg}{m^{3}} \\quad.\n",
    "$$"
   ]
  },
  {
   "cell_type": "code",
   "execution_count": null,
   "metadata": {},
   "outputs": [],
   "source": [
    "# Depth of interest.\n",
    "depth = 100 # cm"
   ]
  },
  {
   "cell_type": "code",
   "execution_count": null,
   "metadata": {},
   "outputs": [],
   "source": [
    "# Select organic carbon-related columns.\n",
    "cols = ['wise3_id', 'topdep', 'botdep', 'orgc', 'bulkdens']\n",
    "df = horizon[cols].copy()"
   ]
  },
  {
   "cell_type": "markdown",
   "metadata": {},
   "source": [
    "Get $\\frac{l}{L}$."
   ]
  },
  {
   "cell_type": "code",
   "execution_count": null,
   "metadata": {},
   "outputs": [],
   "source": [
    "# Clip bottoms at desired depth.\n",
    "# Calculate length of each segment.\n",
    "# Normalize by depth of interest.\n",
    "df.loc[:, 'botdep_trunc'] = df['botdep'].clip(upper=depth)\n",
    "df.loc[:, 'segment_length'] = df['botdep_trunc'] - df['topdep']\n",
    "df.loc[:, 'segment_length'] /= depth"
   ]
  },
  {
   "cell_type": "code",
   "execution_count": null,
   "metadata": {},
   "outputs": [],
   "source": [
    "# Select needed columns to continue.\n",
    "df = df[['wise3_id', 'segment_length', 'orgc', 'bulkdens']]"
   ]
  },
  {
   "cell_type": "code",
   "execution_count": null,
   "metadata": {},
   "outputs": [],
   "source": [
    "# Ignore entries with no valid bulkdens, orgc, or segment_length.\n",
    "df = df[\n",
    "    df.bulkdens.notnull() & df.orgc.notnull() & df.segment_length.gt(0)\n",
    "]"
   ]
  },
  {
   "cell_type": "markdown",
   "metadata": {},
   "source": [
    "Get $\\frac{l}{L} c b$."
   ]
  },
  {
   "cell_type": "code",
   "execution_count": null,
   "metadata": {},
   "outputs": [],
   "source": [
    "df.loc[:, 'weighted_orgc_voldens'] = (\n",
    "    df['segment_length'] * df['orgc'] * df['bulkdens']\n",
    ")"
   ]
  },
  {
   "cell_type": "code",
   "execution_count": null,
   "metadata": {},
   "outputs": [],
   "source": [
    "# Average segments weighted by their length for each profile\n",
    "df = df.groupby('wise3_id').weighted_orgc_voldens.sum()\n",
    "df = pd.DataFrame(df)\n",
    "df.rename({'weighted_orgc_voldens': 'carbon_stock'}, axis=1, inplace=True)"
   ]
  },
  {
   "cell_type": "markdown",
   "metadata": {},
   "source": [
    "Carbon stock.  Units: $\\frac{kg}{m^3}$"
   ]
  },
  {
   "cell_type": "code",
   "execution_count": null,
   "metadata": {},
   "outputs": [
    {
     "data": {
      "text/html": [
       "<div>\n",
       "<style scoped>\n",
       "    .dataframe tbody tr th:only-of-type {\n",
       "        vertical-align: middle;\n",
       "    }\n",
       "\n",
       "    .dataframe tbody tr th {\n",
       "        vertical-align: top;\n",
       "    }\n",
       "\n",
       "    .dataframe thead th {\n",
       "        text-align: right;\n",
       "    }\n",
       "</style>\n",
       "<table border=\"1\" class=\"dataframe\">\n",
       "  <thead>\n",
       "    <tr style=\"text-align: right;\">\n",
       "      <th></th>\n",
       "      <th>carbon_stock</th>\n",
       "    </tr>\n",
       "    <tr>\n",
       "      <th>wise3_id</th>\n",
       "      <th></th>\n",
       "    </tr>\n",
       "  </thead>\n",
       "  <tbody>\n",
       "    <tr>\n",
       "      <th>AL0007</th>\n",
       "      <td>12.11205</td>\n",
       "    </tr>\n",
       "    <tr>\n",
       "      <th>AL0008</th>\n",
       "      <td>6.79968</td>\n",
       "    </tr>\n",
       "    <tr>\n",
       "      <th>AL0009</th>\n",
       "      <td>10.18997</td>\n",
       "    </tr>\n",
       "    <tr>\n",
       "      <th>AL0010</th>\n",
       "      <td>15.78198</td>\n",
       "    </tr>\n",
       "    <tr>\n",
       "      <th>AL0011</th>\n",
       "      <td>17.50674</td>\n",
       "    </tr>\n",
       "    <tr>\n",
       "      <th>...</th>\n",
       "      <td>...</td>\n",
       "    </tr>\n",
       "    <tr>\n",
       "      <th>ZW0060</th>\n",
       "      <td>12.94279</td>\n",
       "    </tr>\n",
       "    <tr>\n",
       "      <th>ZW0062</th>\n",
       "      <td>10.39402</td>\n",
       "    </tr>\n",
       "    <tr>\n",
       "      <th>ZW0063</th>\n",
       "      <td>11.58268</td>\n",
       "    </tr>\n",
       "    <tr>\n",
       "      <th>ZW0065</th>\n",
       "      <td>8.96388</td>\n",
       "    </tr>\n",
       "    <tr>\n",
       "      <th>ZW0066</th>\n",
       "      <td>22.23596</td>\n",
       "    </tr>\n",
       "  </tbody>\n",
       "</table>\n",
       "<p>3645 rows × 1 columns</p>\n",
       "</div>"
      ],
      "text/plain": [
       "          carbon_stock\n",
       "wise3_id              \n",
       "AL0007        12.11205\n",
       "AL0008         6.79968\n",
       "AL0009        10.18997\n",
       "AL0010        15.78198\n",
       "AL0011        17.50674\n",
       "...                ...\n",
       "ZW0060        12.94279\n",
       "ZW0062        10.39402\n",
       "ZW0063        11.58268\n",
       "ZW0065         8.96388\n",
       "ZW0066        22.23596\n",
       "\n",
       "[3645 rows x 1 columns]"
      ]
     },
     "execution_count": null,
     "metadata": {},
     "output_type": "execute_result"
    }
   ],
   "source": [
    "df"
   ]
  },
  {
   "cell_type": "markdown",
   "metadata": {},
   "source": [
    "# Reference"
   ]
  },
  {
   "cell_type": "markdown",
   "metadata": {},
   "source": [
    "- https://medium.com/@wenyu.z/reading-ms-access-mdb-files-on-mac-969a176baa7a"
   ]
  }
 ],
 "metadata": {
  "kernelspec": {
   "display_name": "Python 3",
   "language": "python",
   "name": "python3"
  }
 },
 "nbformat": 4,
 "nbformat_minor": 4
}

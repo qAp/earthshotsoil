{
 "cells": [
  {
   "cell_type": "markdown",
   "metadata": {},
   "source": [
    "# Labelled carbon stock dataset"
   ]
  },
  {
   "cell_type": "code",
   "execution_count": null,
   "metadata": {},
   "outputs": [],
   "source": [
    "import os\n",
    "import pandas as pd\n",
    "import xarray as xr"
   ]
  },
  {
   "cell_type": "markdown",
   "metadata": {},
   "source": [
    "## Carbon stock"
   ]
  },
  {
   "cell_type": "code",
   "execution_count": null,
   "metadata": {},
   "outputs": [],
   "source": [
    "path_soilc = '../data/ISRIC_report_2008_02_csv/'"
   ]
  },
  {
   "cell_type": "code",
   "execution_count": null,
   "metadata": {},
   "outputs": [
    {
     "data": {
      "text/plain": [
       "['WISE3_LABcodes_Description.csv',\n",
       " 'WISE3_HORIZON.csv',\n",
       " 'WISE3_coding_conventions.csv',\n",
       " 'WISE3__ReadMeFirst.csv',\n",
       " 'WISE3_LABname.csv',\n",
       " 'WISE3_LABname_codes.csv',\n",
       " 'WISE3_SITE.csv',\n",
       " 'WISE3_SOURCE.csv']"
      ]
     },
     "execution_count": null,
     "metadata": {},
     "output_type": "execute_result"
    }
   ],
   "source": [
    "os.listdir(path_soilc)"
   ]
  },
  {
   "cell_type": "markdown",
   "metadata": {},
   "source": [
    "Calculate carbon stock."
   ]
  },
  {
   "cell_type": "code",
   "execution_count": null,
   "metadata": {},
   "outputs": [],
   "source": [
    "def get_carbon_stock(path_csv, depth=100):\n",
    "    horizon = pd.read_csv(path_csv)\n",
    "    horizon.columns = [c.lower() for c in horizon.columns]\n",
    "\n",
    "    cols = ['wise3_id', 'topdep', 'botdep', 'orgc', 'bulkdens']\n",
    "    df = horizon[cols].copy()\n",
    "\n",
    "    df.loc[:,'botdep_trunc'] = df['botdep'].clip(upper=depth)\n",
    "    df.loc[:,'segment_length'] = df['botdep_trunc'] - df['topdep']\n",
    "    df.loc[:,'segment_length'] /= depth\n",
    "\n",
    "    df = df[['wise3_id', 'segment_length', 'orgc', 'bulkdens']]\n",
    "\n",
    "    df = df[\n",
    "        (df.bulkdens.notnull() & df.orgc.notnull() \n",
    "         & df.segment_length.gt(0))\n",
    "    ]\n",
    "\n",
    "    df.loc[:, 'weighted_orgc_voldens'] = (\n",
    "        df['segment_length'] * df['orgc'] * df['bulkdens']\n",
    "    )\n",
    "\n",
    "    df = df.groupby('wise3_id').weighted_orgc_voldens.sum()\n",
    "    df = pd.DataFrame(df)\n",
    "    df.rename(\n",
    "        {'weighted_orgc_voldens': 'carbon_stock'}, axis=1, inplace=True)\n",
    "    \n",
    "    return df"
   ]
  },
  {
   "cell_type": "code",
   "execution_count": null,
   "metadata": {},
   "outputs": [],
   "source": [
    "carbon_stock = get_carbon_stock(f'{path_soilc}/WISE3_HORIZON.csv', depth=100)"
   ]
  },
  {
   "cell_type": "markdown",
   "metadata": {},
   "source": [
    "Get (longitude, latitude)s of profiles."
   ]
  },
  {
   "cell_type": "code",
   "execution_count": null,
   "metadata": {},
   "outputs": [],
   "source": [
    "site = pd.read_csv(f'{path_soilc}/WISE3_SITE.csv')\n",
    "site.columns = [c.lower() for c in site.columns]"
   ]
  },
  {
   "cell_type": "code",
   "execution_count": null,
   "metadata": {},
   "outputs": [
    {
     "data": {
      "text/plain": [
       "Index(['wise3_id', 'iso', 'descr', 'dateyr', 'datemon', 'soldep', 'hornum',\n",
       "       'fao_90', 'pha_90', 'fao_74', 'pha_74', 'wrb2006', 'uscl', 'usyr',\n",
       "       'local', 'londd', 'latdd', 'lonlat_acc', 'locat', 'koppen', 'altit',\n",
       "       'lform', 'posit', 'slope', 'parmat', 'drain', 'landus', 'source_id',\n",
       "       'pitref', 'lab_id', 'country'],\n",
       "      dtype='object')"
      ]
     },
     "execution_count": null,
     "metadata": {},
     "output_type": "execute_result"
    }
   ],
   "source": [
    "site.columns"
   ]
  },
  {
   "cell_type": "code",
   "execution_count": null,
   "metadata": {},
   "outputs": [],
   "source": [
    "df = site[['wise3_id', 'londd', 'latdd']].copy()"
   ]
  },
  {
   "cell_type": "code",
   "execution_count": null,
   "metadata": {},
   "outputs": [],
   "source": [
    "carbon_stock = pd.merge(df, carbon_stock, how='inner', left_on='wise3_id', right_on='wise3_id')"
   ]
  },
  {
   "cell_type": "code",
   "execution_count": null,
   "metadata": {},
   "outputs": [
    {
     "data": {
      "text/html": [
       "<div>\n",
       "<style scoped>\n",
       "    .dataframe tbody tr th:only-of-type {\n",
       "        vertical-align: middle;\n",
       "    }\n",
       "\n",
       "    .dataframe tbody tr th {\n",
       "        vertical-align: top;\n",
       "    }\n",
       "\n",
       "    .dataframe thead th {\n",
       "        text-align: right;\n",
       "    }\n",
       "</style>\n",
       "<table border=\"1\" class=\"dataframe\">\n",
       "  <thead>\n",
       "    <tr style=\"text-align: right;\">\n",
       "      <th></th>\n",
       "      <th>wise3_id</th>\n",
       "      <th>londd</th>\n",
       "      <th>latdd</th>\n",
       "      <th>carbon_stock</th>\n",
       "    </tr>\n",
       "  </thead>\n",
       "  <tbody>\n",
       "    <tr>\n",
       "      <th>0</th>\n",
       "      <td>AL0007</td>\n",
       "      <td>19.99556</td>\n",
       "      <td>41.06944</td>\n",
       "      <td>12.11205</td>\n",
       "    </tr>\n",
       "    <tr>\n",
       "      <th>1</th>\n",
       "      <td>AL0008</td>\n",
       "      <td>20.64722</td>\n",
       "      <td>40.21500</td>\n",
       "      <td>6.79968</td>\n",
       "    </tr>\n",
       "    <tr>\n",
       "      <th>2</th>\n",
       "      <td>AL0009</td>\n",
       "      <td>20.78444</td>\n",
       "      <td>40.63722</td>\n",
       "      <td>10.18997</td>\n",
       "    </tr>\n",
       "    <tr>\n",
       "      <th>3</th>\n",
       "      <td>AL0010</td>\n",
       "      <td>19.48361</td>\n",
       "      <td>40.34528</td>\n",
       "      <td>15.78198</td>\n",
       "    </tr>\n",
       "    <tr>\n",
       "      <th>4</th>\n",
       "      <td>AL0011</td>\n",
       "      <td>19.77028</td>\n",
       "      <td>41.37778</td>\n",
       "      <td>17.50674</td>\n",
       "    </tr>\n",
       "  </tbody>\n",
       "</table>\n",
       "</div>"
      ],
      "text/plain": [
       "  wise3_id     londd     latdd  carbon_stock\n",
       "0   AL0007  19.99556  41.06944      12.11205\n",
       "1   AL0008  20.64722  40.21500       6.79968\n",
       "2   AL0009  20.78444  40.63722      10.18997\n",
       "3   AL0010  19.48361  40.34528      15.78198\n",
       "4   AL0011  19.77028  41.37778      17.50674"
      ]
     },
     "execution_count": null,
     "metadata": {},
     "output_type": "execute_result"
    }
   ],
   "source": [
    "carbon_stock.head()"
   ]
  },
  {
   "cell_type": "markdown",
   "metadata": {},
   "source": [
    "## MODCF intraannualSD"
   ]
  },
  {
   "cell_type": "code",
   "execution_count": null,
   "metadata": {},
   "outputs": [
    {
     "name": "stdout",
     "output_type": "stream",
     "text": [
      "CPU times: user 59.8 ms, sys: 24.3 ms, total: 84.1 ms\n",
      "Wall time: 144 ms\n"
     ]
    }
   ],
   "source": [
    "%%time\n",
    "\n",
    "da = xr.open_rasterio('../data/MODCF_intraannualSD.tif')"
   ]
  },
  {
   "cell_type": "code",
   "execution_count": null,
   "metadata": {},
   "outputs": [],
   "source": [
    "x = xr.DataArray(carbon_stock.londd)\n",
    "y = xr.DataArray(carbon_stock.latdd)"
   ]
  },
  {
   "cell_type": "code",
   "execution_count": null,
   "metadata": {},
   "outputs": [
    {
     "name": "stdout",
     "output_type": "stream",
     "text": [
      "CPU times: user 6.92 s, sys: 980 ms, total: 7.9 s\n",
      "Wall time: 9.36 s\n"
     ]
    }
   ],
   "source": [
    "%%time\n",
    "\n",
    "data = da.sel(band=1, x=x, y=y, method='nearest').values"
   ]
  },
  {
   "cell_type": "code",
   "execution_count": null,
   "metadata": {},
   "outputs": [],
   "source": [
    "carbon_stock.loc[:,'intraannualSD'] = data"
   ]
  },
  {
   "cell_type": "code",
   "execution_count": null,
   "metadata": {},
   "outputs": [
    {
     "data": {
      "text/html": [
       "<div>\n",
       "<style scoped>\n",
       "    .dataframe tbody tr th:only-of-type {\n",
       "        vertical-align: middle;\n",
       "    }\n",
       "\n",
       "    .dataframe tbody tr th {\n",
       "        vertical-align: top;\n",
       "    }\n",
       "\n",
       "    .dataframe thead th {\n",
       "        text-align: right;\n",
       "    }\n",
       "</style>\n",
       "<table border=\"1\" class=\"dataframe\">\n",
       "  <thead>\n",
       "    <tr style=\"text-align: right;\">\n",
       "      <th></th>\n",
       "      <th>wise3_id</th>\n",
       "      <th>londd</th>\n",
       "      <th>latdd</th>\n",
       "      <th>carbon_stock</th>\n",
       "      <th>intraannualSD</th>\n",
       "    </tr>\n",
       "  </thead>\n",
       "  <tbody>\n",
       "    <tr>\n",
       "      <th>0</th>\n",
       "      <td>AL0007</td>\n",
       "      <td>19.99556</td>\n",
       "      <td>41.06944</td>\n",
       "      <td>12.11205</td>\n",
       "      <td>1268</td>\n",
       "    </tr>\n",
       "    <tr>\n",
       "      <th>1</th>\n",
       "      <td>AL0008</td>\n",
       "      <td>20.64722</td>\n",
       "      <td>40.21500</td>\n",
       "      <td>6.79968</td>\n",
       "      <td>1115</td>\n",
       "    </tr>\n",
       "    <tr>\n",
       "      <th>2</th>\n",
       "      <td>AL0009</td>\n",
       "      <td>20.78444</td>\n",
       "      <td>40.63722</td>\n",
       "      <td>10.18997</td>\n",
       "      <td>1245</td>\n",
       "    </tr>\n",
       "    <tr>\n",
       "      <th>3</th>\n",
       "      <td>AL0010</td>\n",
       "      <td>19.48361</td>\n",
       "      <td>40.34528</td>\n",
       "      <td>15.78198</td>\n",
       "      <td>1808</td>\n",
       "    </tr>\n",
       "    <tr>\n",
       "      <th>4</th>\n",
       "      <td>AL0011</td>\n",
       "      <td>19.77028</td>\n",
       "      <td>41.37778</td>\n",
       "      <td>17.50674</td>\n",
       "      <td>1457</td>\n",
       "    </tr>\n",
       "    <tr>\n",
       "      <th>...</th>\n",
       "      <td>...</td>\n",
       "      <td>...</td>\n",
       "      <td>...</td>\n",
       "      <td>...</td>\n",
       "      <td>...</td>\n",
       "    </tr>\n",
       "    <tr>\n",
       "      <th>3640</th>\n",
       "      <td>ZW0060</td>\n",
       "      <td>25.08333</td>\n",
       "      <td>-18.08333</td>\n",
       "      <td>12.94279</td>\n",
       "      <td>2888</td>\n",
       "    </tr>\n",
       "    <tr>\n",
       "      <th>3641</th>\n",
       "      <td>ZW0062</td>\n",
       "      <td>31.63333</td>\n",
       "      <td>-21.00000</td>\n",
       "      <td>10.39402</td>\n",
       "      <td>1782</td>\n",
       "    </tr>\n",
       "    <tr>\n",
       "      <th>3642</th>\n",
       "      <td>ZW0063</td>\n",
       "      <td>31.08333</td>\n",
       "      <td>-17.71667</td>\n",
       "      <td>11.58268</td>\n",
       "      <td>2481</td>\n",
       "    </tr>\n",
       "    <tr>\n",
       "      <th>3643</th>\n",
       "      <td>ZW0065</td>\n",
       "      <td>28.50000</td>\n",
       "      <td>-20.50000</td>\n",
       "      <td>8.96388</td>\n",
       "      <td>2323</td>\n",
       "    </tr>\n",
       "    <tr>\n",
       "      <th>3644</th>\n",
       "      <td>ZW0066</td>\n",
       "      <td>31.63333</td>\n",
       "      <td>-21.00000</td>\n",
       "      <td>22.23596</td>\n",
       "      <td>1782</td>\n",
       "    </tr>\n",
       "  </tbody>\n",
       "</table>\n",
       "<p>3645 rows × 5 columns</p>\n",
       "</div>"
      ],
      "text/plain": [
       "     wise3_id     londd     latdd  carbon_stock  intraannualSD\n",
       "0      AL0007  19.99556  41.06944      12.11205           1268\n",
       "1      AL0008  20.64722  40.21500       6.79968           1115\n",
       "2      AL0009  20.78444  40.63722      10.18997           1245\n",
       "3      AL0010  19.48361  40.34528      15.78198           1808\n",
       "4      AL0011  19.77028  41.37778      17.50674           1457\n",
       "...       ...       ...       ...           ...            ...\n",
       "3640   ZW0060  25.08333 -18.08333      12.94279           2888\n",
       "3641   ZW0062  31.63333 -21.00000      10.39402           1782\n",
       "3642   ZW0063  31.08333 -17.71667      11.58268           2481\n",
       "3643   ZW0065  28.50000 -20.50000       8.96388           2323\n",
       "3644   ZW0066  31.63333 -21.00000      22.23596           1782\n",
       "\n",
       "[3645 rows x 5 columns]"
      ]
     },
     "execution_count": null,
     "metadata": {},
     "output_type": "execute_result"
    }
   ],
   "source": [
    "carbon_stock"
   ]
  },
  {
   "cell_type": "code",
   "execution_count": null,
   "metadata": {},
   "outputs": [],
   "source": []
  }
 ],
 "metadata": {
  "kernelspec": {
   "display_name": "Python 3",
   "language": "python",
   "name": "python3"
  }
 },
 "nbformat": 4,
 "nbformat_minor": 4
}

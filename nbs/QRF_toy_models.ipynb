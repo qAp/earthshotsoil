{
 "cells": [
  {
   "cell_type": "markdown",
   "metadata": {},
   "source": [
    "# Quantile Regression Toy Models"
   ]
  },
  {
   "cell_type": "code",
   "execution_count": null,
   "metadata": {},
   "outputs": [],
   "source": [
    "%reload_ext autoreload\n",
    "%autoreload 2"
   ]
  },
  {
   "cell_type": "code",
   "execution_count": null,
   "metadata": {},
   "outputs": [],
   "source": [
    "from pathlib import Path\n",
    "import numpy as np\n",
    "import pandas as pd\n",
    "import sklearn\n",
    "from sklearn import preprocessing\n",
    "from sklearn.model_selection import train_test_split\n",
    "import matplotlib.pyplot as plt"
   ]
  },
  {
   "cell_type": "code",
   "execution_count": null,
   "metadata": {},
   "outputs": [],
   "source": [
    "dir_datasets = Path('../../soil/datasets/')\n",
    "pth_wise3_data = dir_datasets/'ISRIC_WISE/orgc_stock_ISRIC_WISE_clip.csv'"
   ]
  },
  {
   "cell_type": "code",
   "execution_count": null,
   "metadata": {},
   "outputs": [],
   "source": [
    "wise3 = pd.read_csv(pth_wise3_data)\n",
    "wise3.drop('Unnamed: 0', axis=1, inplace=True)"
   ]
  },
  {
   "cell_type": "code",
   "execution_count": null,
   "metadata": {},
   "outputs": [
    {
     "data": {
      "text/html": [
       "<div>\n",
       "<style scoped>\n",
       "    .dataframe tbody tr th:only-of-type {\n",
       "        vertical-align: middle;\n",
       "    }\n",
       "\n",
       "    .dataframe tbody tr th {\n",
       "        vertical-align: top;\n",
       "    }\n",
       "\n",
       "    .dataframe thead th {\n",
       "        text-align: right;\n",
       "    }\n",
       "</style>\n",
       "<table border=\"1\" class=\"dataframe\">\n",
       "  <thead>\n",
       "    <tr style=\"text-align: right;\">\n",
       "      <th></th>\n",
       "      <th>profile_id</th>\n",
       "      <th>orgc_stock_mineral</th>\n",
       "      <th>orgc_stock_organic</th>\n",
       "      <th>top_cm</th>\n",
       "      <th>bot_cm</th>\n",
       "      <th>mineral_fraction</th>\n",
       "      <th>organic_fraction</th>\n",
       "      <th>DATEYR</th>\n",
       "      <th>LATDD</th>\n",
       "      <th>LONDD</th>\n",
       "    </tr>\n",
       "  </thead>\n",
       "  <tbody>\n",
       "    <tr>\n",
       "      <th>0</th>\n",
       "      <td>AL0007</td>\n",
       "      <td>12.11205</td>\n",
       "      <td>0.0</td>\n",
       "      <td>0</td>\n",
       "      <td>100</td>\n",
       "      <td>1.0</td>\n",
       "      <td>0.0</td>\n",
       "      <td>1994.0</td>\n",
       "      <td>41.06944</td>\n",
       "      <td>19.99556</td>\n",
       "    </tr>\n",
       "    <tr>\n",
       "      <th>1</th>\n",
       "      <td>AL0008</td>\n",
       "      <td>6.79968</td>\n",
       "      <td>0.0</td>\n",
       "      <td>0</td>\n",
       "      <td>100</td>\n",
       "      <td>1.0</td>\n",
       "      <td>0.0</td>\n",
       "      <td>1994.0</td>\n",
       "      <td>40.21500</td>\n",
       "      <td>20.64722</td>\n",
       "    </tr>\n",
       "    <tr>\n",
       "      <th>2</th>\n",
       "      <td>AL0010</td>\n",
       "      <td>15.78198</td>\n",
       "      <td>0.0</td>\n",
       "      <td>0</td>\n",
       "      <td>100</td>\n",
       "      <td>1.0</td>\n",
       "      <td>0.0</td>\n",
       "      <td>1994.0</td>\n",
       "      <td>40.34528</td>\n",
       "      <td>19.48361</td>\n",
       "    </tr>\n",
       "    <tr>\n",
       "      <th>3</th>\n",
       "      <td>AL0011</td>\n",
       "      <td>17.50674</td>\n",
       "      <td>0.0</td>\n",
       "      <td>0</td>\n",
       "      <td>100</td>\n",
       "      <td>1.0</td>\n",
       "      <td>0.0</td>\n",
       "      <td>1994.0</td>\n",
       "      <td>41.37778</td>\n",
       "      <td>19.77028</td>\n",
       "    </tr>\n",
       "    <tr>\n",
       "      <th>4</th>\n",
       "      <td>AL0012</td>\n",
       "      <td>7.55993</td>\n",
       "      <td>0.0</td>\n",
       "      <td>0</td>\n",
       "      <td>100</td>\n",
       "      <td>1.0</td>\n",
       "      <td>0.0</td>\n",
       "      <td>1994.0</td>\n",
       "      <td>40.65528</td>\n",
       "      <td>20.95889</td>\n",
       "    </tr>\n",
       "  </tbody>\n",
       "</table>\n",
       "</div>"
      ],
      "text/plain": [
       "  profile_id  orgc_stock_mineral  orgc_stock_organic  top_cm  bot_cm  \\\n",
       "0     AL0007            12.11205                 0.0       0     100   \n",
       "1     AL0008             6.79968                 0.0       0     100   \n",
       "2     AL0010            15.78198                 0.0       0     100   \n",
       "3     AL0011            17.50674                 0.0       0     100   \n",
       "4     AL0012             7.55993                 0.0       0     100   \n",
       "\n",
       "   mineral_fraction  organic_fraction  DATEYR     LATDD     LONDD  \n",
       "0               1.0               0.0  1994.0  41.06944  19.99556  \n",
       "1               1.0               0.0  1994.0  40.21500  20.64722  \n",
       "2               1.0               0.0  1994.0  40.34528  19.48361  \n",
       "3               1.0               0.0  1994.0  41.37778  19.77028  \n",
       "4               1.0               0.0  1994.0  40.65528  20.95889  "
      ]
     },
     "execution_count": null,
     "metadata": {},
     "output_type": "execute_result"
    }
   ],
   "source": [
    "wise3.head()"
   ]
  },
  {
   "cell_type": "code",
   "execution_count": null,
   "metadata": {},
   "outputs": [],
   "source": [
    "vars_X = ['LATDD', 'LONDD']\n",
    "var_Y = 'orgc_stock_mineral'"
   ]
  },
  {
   "cell_type": "code",
   "execution_count": null,
   "metadata": {},
   "outputs": [],
   "source": [
    "X = wise3[vars_X].values\n",
    "Y = wise3[var_Y].values"
   ]
  },
  {
   "cell_type": "code",
   "execution_count": null,
   "metadata": {},
   "outputs": [],
   "source": [
    "Y_scaled = preprocessing.scale(Y)\n",
    "X_scaled = pd.DataFrame(preprocessing.scale(X), columns=vars_X)"
   ]
  },
  {
   "cell_type": "code",
   "execution_count": null,
   "metadata": {},
   "outputs": [],
   "source": [
    "X_train, X_test, Y_train, Y_test = train_test_split(\n",
    "    X_scaled, Y_scaled, test_size=0.2, random_state=5)"
   ]
  },
  {
   "cell_type": "markdown",
   "metadata": {},
   "source": [
    "## Helpers"
   ]
  },
  {
   "cell_type": "code",
   "execution_count": null,
   "metadata": {},
   "outputs": [],
   "source": [
    "def correctPcnt(df):\n",
    "    correct = 0\n",
    "    obs = df.shape[0]\n",
    "    for i in range(obs):\n",
    "        if df.loc[i,0.01] <= df.loc[i,'actual'] <= df.loc[i,0.99]:\n",
    "            correct += 1\n",
    "    print(correct/obs)\n",
    "    \n",
    "    \n",
    "\n",
    "def showIntervals(ax, df):\n",
    "    x = np.arange(len(df))\n",
    "    y50 = df[0.5].values\n",
    "    y95 = df[0.95].values\n",
    "    y05 = df[0.05].values\n",
    "    \n",
    "    ax.scatter(x, y50, marker='.')\n",
    "    ax.fill_between(x, y05, y95, color='red', alpha=0.1)\n",
    "    return ax"
   ]
  },
  {
   "cell_type": "markdown",
   "metadata": {},
   "source": [
    "## Random Forest"
   ]
  },
  {
   "cell_type": "code",
   "execution_count": null,
   "metadata": {},
   "outputs": [],
   "source": [
    "from sklearn.ensemble import RandomForestRegressor"
   ]
  },
  {
   "cell_type": "code",
   "execution_count": null,
   "metadata": {},
   "outputs": [],
   "source": [
    "rf = RandomForestRegressor(\n",
    "    n_estimators=200, random_state=0, min_samples_split=20)"
   ]
  },
  {
   "cell_type": "code",
   "execution_count": null,
   "metadata": {},
   "outputs": [
    {
     "name": "stdout",
     "output_type": "stream",
     "text": [
      "CPU times: user 404 ms, sys: 10.3 ms, total: 414 ms\n",
      "Wall time: 459 ms\n"
     ]
    },
    {
     "data": {
      "text/plain": [
       "RandomForestRegressor(min_samples_split=20, n_estimators=200, random_state=0)"
      ]
     },
     "execution_count": null,
     "metadata": {},
     "output_type": "execute_result"
    }
   ],
   "source": [
    "%%time\n",
    "\n",
    "rf.fit(X_train, Y_train)"
   ]
  },
  {
   "cell_type": "code",
   "execution_count": null,
   "metadata": {},
   "outputs": [
    {
     "name": "stdout",
     "output_type": "stream",
     "text": [
      "CPU times: user 491 ms, sys: 37.5 ms, total: 528 ms\n",
      "Wall time: 571 ms\n"
     ]
    },
    {
     "data": {
      "text/html": [
       "<div>\n",
       "<style scoped>\n",
       "    .dataframe tbody tr th:only-of-type {\n",
       "        vertical-align: middle;\n",
       "    }\n",
       "\n",
       "    .dataframe tbody tr th {\n",
       "        vertical-align: top;\n",
       "    }\n",
       "\n",
       "    .dataframe thead th {\n",
       "        text-align: right;\n",
       "    }\n",
       "</style>\n",
       "<table border=\"1\" class=\"dataframe\">\n",
       "  <thead>\n",
       "    <tr style=\"text-align: right;\">\n",
       "      <th></th>\n",
       "      <th>0</th>\n",
       "      <th>0</th>\n",
       "      <th>0</th>\n",
       "      <th>0</th>\n",
       "      <th>0</th>\n",
       "      <th>0</th>\n",
       "      <th>0</th>\n",
       "      <th>0</th>\n",
       "      <th>0</th>\n",
       "      <th>0</th>\n",
       "      <th>...</th>\n",
       "      <th>0</th>\n",
       "      <th>0</th>\n",
       "      <th>0</th>\n",
       "      <th>0</th>\n",
       "      <th>0</th>\n",
       "      <th>0</th>\n",
       "      <th>0</th>\n",
       "      <th>0</th>\n",
       "      <th>0</th>\n",
       "      <th>0</th>\n",
       "    </tr>\n",
       "  </thead>\n",
       "  <tbody>\n",
       "    <tr>\n",
       "      <th>0</th>\n",
       "      <td>0.16</td>\n",
       "      <td>0.61</td>\n",
       "      <td>0.05</td>\n",
       "      <td>0.58</td>\n",
       "      <td>0.22</td>\n",
       "      <td>0.03</td>\n",
       "      <td>0.10</td>\n",
       "      <td>0.13</td>\n",
       "      <td>0.50</td>\n",
       "      <td>0.14</td>\n",
       "      <td>...</td>\n",
       "      <td>0.24</td>\n",
       "      <td>0.12</td>\n",
       "      <td>0.36</td>\n",
       "      <td>0.12</td>\n",
       "      <td>0.18</td>\n",
       "      <td>0.02</td>\n",
       "      <td>0.90</td>\n",
       "      <td>0.07</td>\n",
       "      <td>0.09</td>\n",
       "      <td>-0.02</td>\n",
       "    </tr>\n",
       "    <tr>\n",
       "      <th>1</th>\n",
       "      <td>-0.04</td>\n",
       "      <td>0.18</td>\n",
       "      <td>-0.11</td>\n",
       "      <td>0.14</td>\n",
       "      <td>0.01</td>\n",
       "      <td>-0.11</td>\n",
       "      <td>-0.06</td>\n",
       "      <td>-0.07</td>\n",
       "      <td>0.29</td>\n",
       "      <td>0.02</td>\n",
       "      <td>...</td>\n",
       "      <td>0.25</td>\n",
       "      <td>-0.02</td>\n",
       "      <td>-0.08</td>\n",
       "      <td>-0.23</td>\n",
       "      <td>0.11</td>\n",
       "      <td>0.03</td>\n",
       "      <td>-0.10</td>\n",
       "      <td>-0.11</td>\n",
       "      <td>-0.02</td>\n",
       "      <td>-0.07</td>\n",
       "    </tr>\n",
       "    <tr>\n",
       "      <th>2</th>\n",
       "      <td>0.29</td>\n",
       "      <td>-0.21</td>\n",
       "      <td>-0.22</td>\n",
       "      <td>-0.09</td>\n",
       "      <td>0.13</td>\n",
       "      <td>-0.21</td>\n",
       "      <td>-0.28</td>\n",
       "      <td>-0.26</td>\n",
       "      <td>-0.27</td>\n",
       "      <td>-0.23</td>\n",
       "      <td>...</td>\n",
       "      <td>0.49</td>\n",
       "      <td>0.43</td>\n",
       "      <td>0.11</td>\n",
       "      <td>-0.26</td>\n",
       "      <td>-0.24</td>\n",
       "      <td>-0.21</td>\n",
       "      <td>-0.14</td>\n",
       "      <td>-0.20</td>\n",
       "      <td>-0.11</td>\n",
       "      <td>-0.01</td>\n",
       "    </tr>\n",
       "    <tr>\n",
       "      <th>3</th>\n",
       "      <td>-0.19</td>\n",
       "      <td>0.13</td>\n",
       "      <td>-0.14</td>\n",
       "      <td>-0.38</td>\n",
       "      <td>-0.15</td>\n",
       "      <td>-0.28</td>\n",
       "      <td>0.12</td>\n",
       "      <td>-0.19</td>\n",
       "      <td>0.05</td>\n",
       "      <td>0.33</td>\n",
       "      <td>...</td>\n",
       "      <td>-0.45</td>\n",
       "      <td>0.04</td>\n",
       "      <td>-0.20</td>\n",
       "      <td>0.13</td>\n",
       "      <td>-0.24</td>\n",
       "      <td>0.39</td>\n",
       "      <td>-0.14</td>\n",
       "      <td>0.29</td>\n",
       "      <td>-0.41</td>\n",
       "      <td>-0.16</td>\n",
       "    </tr>\n",
       "    <tr>\n",
       "      <th>4</th>\n",
       "      <td>-0.29</td>\n",
       "      <td>-0.28</td>\n",
       "      <td>-0.53</td>\n",
       "      <td>-0.45</td>\n",
       "      <td>-0.43</td>\n",
       "      <td>-0.38</td>\n",
       "      <td>-0.29</td>\n",
       "      <td>-0.24</td>\n",
       "      <td>-0.44</td>\n",
       "      <td>-0.44</td>\n",
       "      <td>...</td>\n",
       "      <td>-0.38</td>\n",
       "      <td>-0.47</td>\n",
       "      <td>-0.28</td>\n",
       "      <td>-0.39</td>\n",
       "      <td>-0.24</td>\n",
       "      <td>0.15</td>\n",
       "      <td>-0.45</td>\n",
       "      <td>-0.03</td>\n",
       "      <td>-0.39</td>\n",
       "      <td>-0.49</td>\n",
       "    </tr>\n",
       "  </tbody>\n",
       "</table>\n",
       "<p>5 rows × 200 columns</p>\n",
       "</div>"
      ],
      "text/plain": [
       "      0     0     0     0     0     0     0     0     0     0  ...     0  \\\n",
       "0  0.16  0.61  0.05  0.58  0.22  0.03  0.10  0.13  0.50  0.14  ...  0.24   \n",
       "1 -0.04  0.18 -0.11  0.14  0.01 -0.11 -0.06 -0.07  0.29  0.02  ...  0.25   \n",
       "2  0.29 -0.21 -0.22 -0.09  0.13 -0.21 -0.28 -0.26 -0.27 -0.23  ...  0.49   \n",
       "3 -0.19  0.13 -0.14 -0.38 -0.15 -0.28  0.12 -0.19  0.05  0.33  ... -0.45   \n",
       "4 -0.29 -0.28 -0.53 -0.45 -0.43 -0.38 -0.29 -0.24 -0.44 -0.44  ... -0.38   \n",
       "\n",
       "      0     0     0     0     0     0     0     0     0  \n",
       "0  0.12  0.36  0.12  0.18  0.02  0.90  0.07  0.09 -0.02  \n",
       "1 -0.02 -0.08 -0.23  0.11  0.03 -0.10 -0.11 -0.02 -0.07  \n",
       "2  0.43  0.11 -0.26 -0.24 -0.21 -0.14 -0.20 -0.11 -0.01  \n",
       "3  0.04 -0.20  0.13 -0.24  0.39 -0.14  0.29 -0.41 -0.16  \n",
       "4 -0.47 -0.28 -0.39 -0.24  0.15 -0.45 -0.03 -0.39 -0.49  \n",
       "\n",
       "[5 rows x 200 columns]"
      ]
     },
     "execution_count": null,
     "metadata": {},
     "output_type": "execute_result"
    }
   ],
   "source": [
    "%%time \n",
    "\n",
    "# Get the predictions of all trees for all observations\n",
    "# Each observation has N predictions from the N trees\n",
    "\n",
    "pred_Q = pd.DataFrame()\n",
    "for pred in rf.estimators_:\n",
    "    temp = pd.Series(pred.predict(X_test).round(2))\n",
    "    pred_Q = pd.concat([pred_Q,temp],axis=1)\n",
    "pred_Q.head()"
   ]
  },
  {
   "cell_type": "code",
   "execution_count": null,
   "metadata": {},
   "outputs": [],
   "source": [
    "quantiles = [0.01, 0.05, 0.50, 0.95 , 0.99]"
   ]
  },
  {
   "cell_type": "code",
   "execution_count": null,
   "metadata": {},
   "outputs": [
    {
     "name": "stdout",
     "output_type": "stream",
     "text": [
      "R2 score is 0.15\n",
      "0.7905405405405406\n"
     ]
    },
    {
     "data": {
      "image/png": "[encoded data removed]",
      "text/plain": [
       "<Figure size 576x288 with 1 Axes>"
      ]
     },
     "metadata": {
      "needs_background": "light"
     },
     "output_type": "display_data"
    }
   ],
   "source": [
    "RF_actual_pred = pd.DataFrame()\n",
    "\n",
    "for q in quantiles:\n",
    "    s = pred_Q.quantile(q=q, axis=1)\n",
    "    RF_actual_pred = pd.concat([RF_actual_pred,s],axis=1,sort=False)\n",
    "\n",
    "RF_actual_pred.columns = quantiles\n",
    "RF_actual_pred['actual'] = Y_test\n",
    "RF_actual_pred['interval'] = RF_actual_pred[np.max(quantiles)] - RF_actual_pred[np.min(quantiles)]\n",
    "RF_actual_pred = RF_actual_pred.sort_values('interval')\n",
    "RF_actual_pred = RF_actual_pred.round(2)\n",
    "RF_actual_pred\n",
    "\n",
    "# Get the R-squared\n",
    "r2 = sklearn.metrics.r2_score(RF_actual_pred['actual'], RF_actual_pred[0.5]).round(2)\n",
    "print('R2 score is {}'.format(r2) )  # 0.81\n",
    "\n",
    "# Get the correct percentage\n",
    "correctPcnt(RF_actual_pred) # 0.9509\n",
    "\n",
    "# Show the intervals\n",
    "fig, ax = plt.subplots(nrows=1, ncols=1, figsize=(8, 4))\n",
    "ax = showIntervals(ax, RF_actual_pred) "
   ]
  },
  {
   "cell_type": "markdown",
   "metadata": {},
   "source": [
    "# References\n",
    "- https://medium.com/dataman-in-ai/a-tutorial-on-quantile-regression-quantile-random-forests-and-quantile-gbm-d3c651af7516"
   ]
  },
  {
   "cell_type": "code",
   "execution_count": null,
   "metadata": {},
   "outputs": [],
   "source": []
  }
 ],
 "metadata": {
  "kernelspec": {
   "display_name": "Python 3",
   "language": "python",
   "name": "python3"
  }
 },
 "nbformat": 4,
 "nbformat_minor": 4
}

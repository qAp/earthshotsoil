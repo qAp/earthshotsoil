{
 "cells": [
  {
   "cell_type": "markdown",
   "metadata": {},
   "source": [
    "# Predictor datasets"
   ]
  },
  {
   "cell_type": "code",
   "execution_count": null,
   "metadata": {},
   "outputs": [],
   "source": [
    "import numpy as np\n",
    "import xarray as xr"
   ]
  },
  {
   "cell_type": "markdown",
   "metadata": {},
   "source": [
    "## MODCF data "
   ]
  },
  {
   "cell_type": "markdown",
   "metadata": {},
   "source": [
    "Dataset: https://www.earthenv.org/cloud\n",
    "\n",
    "Reading GeoTIFF:\n",
    "- http://xarray.pydata.org/en/stable/io.html#rasterio\n",
    "- http://xarray.pydata.org/en/stable/generated/xarray.open_rasterio.html#xarray-open-rasterio"
   ]
  },
  {
   "cell_type": "markdown",
   "metadata": {},
   "source": [
    "### `intraannualSD`"
   ]
  },
  {
   "cell_type": "code",
   "execution_count": null,
   "metadata": {},
   "outputs": [
    {
     "name": "stdout",
     "output_type": "stream",
     "text": [
      "--2021-01-24 11:27:37--  https://data.earthenv.org/cloud/MODCF_intraannualSD.tif\n",
      "Resolving data.earthenv.org (data.earthenv.org)... 104.21.34.38, 172.67.196.246\n",
      "Connecting to data.earthenv.org (data.earthenv.org)|104.21.34.38|:443... connected.\n",
      "HTTP request sent, awaiting response... 200 OK\n",
      "Length: 700277890 (668M) [image/tiff]\n",
      "Saving to: ‘MODCF_intraannualSD.tif’\n",
      "\n",
      "MODCF_intraannualSD 100%[===================>] 667.84M  9.14MB/s    in 64s     \n",
      "\n",
      "2021-01-24 11:28:43 (10.4 MB/s) - ‘MODCF_intraannualSD.tif’ saved [700277890/700277890]\n",
      "\n"
     ]
    }
   ],
   "source": [
    "# ! wget https://data.earthenv.org/cloud/MODCF_intraannualSD.tif"
   ]
  },
  {
   "cell_type": "code",
   "execution_count": null,
   "metadata": {},
   "outputs": [
    {
     "name": "stdout",
     "output_type": "stream",
     "text": [
      "CPU times: user 91.8 ms, sys: 31.8 ms, total: 124 ms\n",
      "Wall time: 226 ms\n"
     ]
    }
   ],
   "source": [
    "%%time\n",
    "\n",
    "da = xr.open_rasterio('../data/MODCF_intraannualSD.tif')"
   ]
  },
  {
   "cell_type": "code",
   "execution_count": null,
   "metadata": {},
   "outputs": [
    {
     "data": {
      "text/plain": [
       "-0.008333333333354176"
      ]
     },
     "execution_count": null,
     "metadata": {},
     "output_type": "execute_result"
    }
   ],
   "source": [
    "i = 91\n",
    "da.x.values[i] - da.x.values[i + 1]"
   ]
  },
  {
   "cell_type": "code",
   "execution_count": null,
   "metadata": {},
   "outputs": [
    {
     "name": "stdout",
     "output_type": "stream",
     "text": [
      "CPU times: user 22.7 s, sys: 15.4 s, total: 38.1 s\n",
      "Wall time: 51.2 s\n"
     ]
    },
    {
     "data": {
      "text/html": [
       "<div>\n",
       "<style scoped>\n",
       "    .dataframe tbody tr th:only-of-type {\n",
       "        vertical-align: middle;\n",
       "    }\n",
       "\n",
       "    .dataframe tbody tr th {\n",
       "        vertical-align: top;\n",
       "    }\n",
       "\n",
       "    .dataframe thead th {\n",
       "        text-align: right;\n",
       "    }\n",
       "</style>\n",
       "<table border=\"1\" class=\"dataframe\">\n",
       "  <thead>\n",
       "    <tr style=\"text-align: right;\">\n",
       "      <th></th>\n",
       "      <th></th>\n",
       "      <th></th>\n",
       "      <th>test</th>\n",
       "    </tr>\n",
       "    <tr>\n",
       "      <th>band</th>\n",
       "      <th>y</th>\n",
       "      <th>x</th>\n",
       "      <th></th>\n",
       "    </tr>\n",
       "  </thead>\n",
       "  <tbody>\n",
       "    <tr>\n",
       "      <th rowspan=\"11\" valign=\"top\">1</th>\n",
       "      <th rowspan=\"5\" valign=\"top\">89.995833</th>\n",
       "      <th>-179.995833</th>\n",
       "      <td>65535</td>\n",
       "    </tr>\n",
       "    <tr>\n",
       "      <th>-179.987500</th>\n",
       "      <td>65535</td>\n",
       "    </tr>\n",
       "    <tr>\n",
       "      <th>-179.979167</th>\n",
       "      <td>65535</td>\n",
       "    </tr>\n",
       "    <tr>\n",
       "      <th>-179.970833</th>\n",
       "      <td>65535</td>\n",
       "    </tr>\n",
       "    <tr>\n",
       "      <th>-179.962500</th>\n",
       "      <td>65535</td>\n",
       "    </tr>\n",
       "    <tr>\n",
       "      <th>...</th>\n",
       "      <th>...</th>\n",
       "      <td>...</td>\n",
       "    </tr>\n",
       "    <tr>\n",
       "      <th rowspan=\"5\" valign=\"top\">-89.995833</th>\n",
       "      <th>179.962500</th>\n",
       "      <td>65535</td>\n",
       "    </tr>\n",
       "    <tr>\n",
       "      <th>179.970833</th>\n",
       "      <td>65535</td>\n",
       "    </tr>\n",
       "    <tr>\n",
       "      <th>179.979167</th>\n",
       "      <td>65535</td>\n",
       "    </tr>\n",
       "    <tr>\n",
       "      <th>179.987500</th>\n",
       "      <td>65535</td>\n",
       "    </tr>\n",
       "    <tr>\n",
       "      <th>179.995833</th>\n",
       "      <td>65535</td>\n",
       "    </tr>\n",
       "  </tbody>\n",
       "</table>\n",
       "<p>933120000 rows × 1 columns</p>\n",
       "</div>"
      ],
      "text/plain": [
       "                              test\n",
       "band y          x                 \n",
       "1     89.995833 -179.995833  65535\n",
       "                -179.987500  65535\n",
       "                -179.979167  65535\n",
       "                -179.970833  65535\n",
       "                -179.962500  65535\n",
       "...                            ...\n",
       "     -89.995833  179.962500  65535\n",
       "                 179.970833  65535\n",
       "                 179.979167  65535\n",
       "                 179.987500  65535\n",
       "                 179.995833  65535\n",
       "\n",
       "[933120000 rows x 1 columns]"
      ]
     },
     "execution_count": null,
     "metadata": {},
     "output_type": "execute_result"
    }
   ],
   "source": [
    "%%time\n",
    "\n",
    "da.to_dataframe(name='test')"
   ]
  },
  {
   "cell_type": "code",
   "execution_count": null,
   "metadata": {},
   "outputs": [],
   "source": []
  }
 ],
 "metadata": {
  "kernelspec": {
   "display_name": "Python 3",
   "language": "python",
   "name": "python3"
  }
 },
 "nbformat": 4,
 "nbformat_minor": 4
}
